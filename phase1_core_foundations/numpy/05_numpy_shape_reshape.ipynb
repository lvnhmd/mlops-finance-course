{
 "cells": [
  {
   "cell_type": "markdown",
   "id": "176e53c1",
   "metadata": {},
   "source": [
    "# [P1] NumPy: Shape & Reshape\n",
    "\n",
    "**Generated:** 2025-09-20\n",
    "\n",
    "> Tip: Run cells top → bottom. Keep notes in the 'Your notes' section.\n"
   ]
  },
  {
   "cell_type": "markdown",
   "id": "4fed0808",
   "metadata": {},
   "source": [
    "## Objectives\n",
    "- Fill these in after you finish the lesson.\n",
    "- Example: understand shapes/dtypes; practice slicing; compute simple finance metrics.\n"
   ]
  },
  {
   "cell_type": "markdown",
   "id": "018e1798",
   "metadata": {},
   "source": [
    "## Setup"
   ]
  },
  {
   "cell_type": "code",
   "execution_count": 1,
   "id": "e84223c7",
   "metadata": {},
   "outputs": [
    {
     "data": {
      "text/plain": [
       "'2.0.1'"
      ]
     },
     "execution_count": 1,
     "metadata": {},
     "output_type": "execute_result"
    }
   ],
   "source": [
    "import numpy as np\n",
    "np.__version__"
   ]
  },
  {
   "cell_type": "markdown",
   "id": "4aafea97",
   "metadata": {},
   "source": [
    "## 1) Shapes\n",
    "- `.shape`, `.reshape`, `.ravel`, `.T` (transpose)"
   ]
  },
  {
   "cell_type": "code",
   "execution_count": 2,
   "id": "829c99ea",
   "metadata": {},
   "outputs": [
    {
     "name": "stdout",
     "output_type": "stream",
     "text": [
      "[ 0  1  2  3  4  5  6  7  8  9 10 11]\n",
      "\n",
      "[[ 0  1  2  3]\n",
      " [ 4  5  6  7]\n",
      " [ 8  9 10 11]]\n",
      "\n",
      "[[ 0  4  8]\n",
      " [ 1  5  9]\n",
      " [ 2  6 10]\n",
      " [ 3  7 11]]\n"
     ]
    },
    {
     "data": {
      "text/plain": [
       "((12,), (3, 4), (4, 3))"
      ]
     },
     "execution_count": 2,
     "metadata": {},
     "output_type": "execute_result"
    }
   ],
   "source": [
    "a = np.arange(12)\n",
    "b = a.reshape(3,4)\n",
    "c = b.T\n",
    "print(a, b, c, sep='\\n\\n');\n",
    "a.shape, b.shape, c.shape"
   ]
  },
  {
   "cell_type": "markdown",
   "id": "af4eeb81",
   "metadata": {},
   "source": [
    "## 2) Reshape calendar‑style\n",
    "Reshape a 28‑day vector of returns into 4 weeks × 7 days.\n"
   ]
  },
  {
   "cell_type": "code",
   "execution_count": 3,
   "id": "d4bc9009",
   "metadata": {},
   "outputs": [
    {
     "data": {
      "text/plain": [
       "(array([[ 3.45584192e-03,  8.21618144e-03,  3.30437076e-03,\n",
       "         -1.30315723e-02,  9.05355867e-03,  4.46374572e-03,\n",
       "         -5.36953235e-03],\n",
       "        [ 5.81118104e-03,  3.64572396e-03,  2.94132497e-03,\n",
       "          2.84222413e-04,  5.46712987e-03, -7.36454087e-03,\n",
       "         -1.62909948e-03],\n",
       "        [-4.82119313e-03,  5.98846213e-03,  3.97221075e-04,\n",
       "         -2.92456751e-03, -7.81908462e-03, -2.57192241e-03,\n",
       "          8.14218052e-05],\n",
       "        [-2.75602905e-03,  1.29406381e-02,  1.00672432e-02,\n",
       "         -2.71116248e-02, -1.88901325e-02, -1.74772092e-03,\n",
       "         -4.22190412e-03]]),\n",
       " (4, 7))"
      ]
     },
     "execution_count": 3,
     "metadata": {},
     "output_type": "execute_result"
    }
   ],
   "source": [
    "rng = np.random.default_rng(1)\n",
    "rets = rng.normal(0, 0.01, size=28)\n",
    "weeks = rets.reshape(4,7)\n",
    "weeks, weeks.shape"
   ]
  },
  {
   "cell_type": "markdown",
   "id": "67d56138",
   "metadata": {},
   "source": [
    "## Exercise\n",
    "Given 60 trading‑day returns, reshape into 12 weeks of 5 days and compute weekly mean.\n"
   ]
  },
  {
   "cell_type": "code",
   "execution_count": 4,
   "id": "4c7b9f0f",
   "metadata": {},
   "outputs": [
    {
     "data": {
      "text/plain": [
       "array([ 0.00211836,  0.00238091, -0.00341229, -0.00283649,  0.00343837,\n",
       "        0.00040067, -0.00443589, -0.00075903, -0.00255619,  0.00014908,\n",
       "       -0.00243546, -0.0005458 ])"
      ]
     },
     "execution_count": 4,
     "metadata": {},
     "output_type": "execute_result"
    }
   ],
   "source": [
    "rets60 = rng.normal(0, 0.01, size=60)\n",
    "weeks = rets60.reshape(12,5)\n",
    "weekly_mean = weeks.mean(axis=1)\n",
    "weekly_mean"
   ]
  },
  {
   "cell_type": "markdown",
   "id": "ea9e632c",
   "metadata": {},
   "source": [
    "## Your notes"
   ]
  }
 ],
 "metadata": {
  "kernelspec": {
   "display_name": "mlops_finance",
   "language": "python",
   "name": "python3"
  },
  "language_info": {
   "codemirror_mode": {
    "name": "ipython",
    "version": 3
   },
   "file_extension": ".py",
   "mimetype": "text/x-python",
   "name": "python",
   "nbconvert_exporter": "python",
   "pygments_lexer": "ipython3",
   "version": "3.11.13"
  }
 },
 "nbformat": 4,
 "nbformat_minor": 5
}
