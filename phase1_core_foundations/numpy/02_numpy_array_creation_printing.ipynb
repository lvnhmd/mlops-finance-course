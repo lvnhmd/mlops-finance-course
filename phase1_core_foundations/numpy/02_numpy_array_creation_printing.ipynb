{
 "cells": [
  {
   "cell_type": "markdown",
   "id": "c4145e75",
   "metadata": {},
   "source": [
    "# [P1] NumPy: Array Creation & Printing\n",
    "\n",
    "**Generated:** 2025-09-20\n",
    "\n",
    "> Tip: Run cells top → bottom. Keep notes in the 'Your notes' section.\n"
   ]
  },
  {
   "cell_type": "markdown",
   "id": "2ffa3ce0",
   "metadata": {},
   "source": [
    "## Objectives\n",
    "- Fill these in after you finish the lesson.\n",
    "- Example: understand shapes/dtypes; practice slicing; compute simple finance metrics.\n"
   ]
  },
  {
   "cell_type": "markdown",
   "id": "d137acaa",
   "metadata": {},
   "source": [
    "## Setup"
   ]
  },
  {
   "cell_type": "code",
   "execution_count": 2,
   "id": "f21d5f1c",
   "metadata": {},
   "outputs": [
    {
     "data": {
      "text/plain": [
       "'2.0.1'"
      ]
     },
     "execution_count": 2,
     "metadata": {},
     "output_type": "execute_result"
    }
   ],
   "source": [
    "import numpy as np\n",
    "np.__version__"
   ]
  },
  {
   "cell_type": "markdown",
   "id": "4d29bf73",
   "metadata": {},
   "source": [
    "## 1) Creation functions\n",
    "- `np.array`, `np.zeros`, `np.ones`, `np.full`\n",
    "- `np.arange` vs `np.linspace` (floats caution)\n",
    "- `np.random` basics\n"
   ]
  },
  {
   "cell_type": "code",
   "execution_count": null,
   "id": "a7416a7f",
   "metadata": {},
   "outputs": [
    {
     "data": {
      "text/plain": [
       "(array([[0., 0., 0.],\n",
       "        [0., 0., 0.],\n",
       "        [0., 0., 0.]]),\n",
       " array([[1., 1., 1., 1.],\n",
       "        [1., 1., 1., 1.]]),\n",
       " array([[7.5, 7.5],\n",
       "        [7.5, 7.5]]),\n",
       " array([10, 15, 20, 25]),\n",
       " array([0. , 0.2, 0.4, 0.6, 0.8, 1. ]),\n",
       " array([ 0.30471708, -1.03998411,  0.7504512 ,  0.94056472, -1.95103519]))"
      ]
     },
     "execution_count": 3,
     "metadata": {},
     "output_type": "execute_result"
    }
   ],
   "source": [
    "a = np.zeros((3,3))\n",
    "b = np.ones((2,4))\n",
    "c = np.full((2,2), 7.5)\n",
    "d = np.arange(10, 30, 5)         # step\n",
    "e = np.linspace(0, 1, 6)         # count\n",
    "generator = np.random.default_rng(42)\n",
    "f = generator.normal(loc=0, scale=1, size=10)\n",
    "\n",
    "a, b, c, d, e, f[:5]"
   ]
  },
  {
   "cell_type": "markdown",
   "id": "cf66c86d",
   "metadata": {},
   "source": [
    "## 2) Printing neatly\n",
    "- Slice head/tail, set print options, round for readability.\n"
   ]
  },
  {
   "cell_type": "code",
   "execution_count": 4,
   "id": "c62bf255",
   "metadata": {},
   "outputs": [
    {
     "name": "stdout",
     "output_type": "stream",
     "text": [
      "[[ 0.879  0.778  0.066  1.127  0.468]\n",
      " [-0.859  0.369 -0.959  0.878 -0.05 ]\n",
      " [-0.185 -0.681  1.223 -0.155 -0.428]\n",
      " [-0.352  0.532  0.365  0.413  0.431]\n",
      " [ 2.142 -0.406 -0.512 -0.814  0.616]]\n"
     ]
    }
   ],
   "source": [
    "np.set_printoptions(precision=3, suppress=True)\n",
    "large = rng.normal(size=(5,5))\n",
    "print(large)"
   ]
  },
  {
   "cell_type": "markdown",
   "id": "8fe8d02d",
   "metadata": {},
   "source": [
    "## Exercise\n",
    "Simulate 10 random daily returns (mean 0.1%, std 1%). Print first 5.\n"
   ]
  },
  {
   "cell_type": "code",
   "execution_count": 10,
   "id": "f5a86f8f",
   "metadata": {},
   "outputs": [
    {
     "name": "stdout",
     "output_type": "stream",
     "text": [
      "[ 0.006 -0.004  0.001  0.006  0.005]\n",
      "[ 0.006 -0.004  0.001  0.006  0.005  0.008  0.    -0.003  0.    -0.016]\n"
     ]
    }
   ],
   "source": [
    "rets = rng.normal(loc=0.001, scale=0.01, size=10)\n",
    "print(rets[:5])\n",
    "print(rets)"
   ]
  },
  {
   "cell_type": "markdown",
   "id": "4adbc6f6",
   "metadata": {},
   "source": [
    "## Your notes"
   ]
  }
 ],
 "metadata": {
  "kernelspec": {
   "display_name": "mlops_finance",
   "language": "python",
   "name": "python3"
  },
  "language_info": {
   "codemirror_mode": {
    "name": "ipython",
    "version": 3
   },
   "file_extension": ".py",
   "mimetype": "text/x-python",
   "name": "python",
   "nbconvert_exporter": "python",
   "pygments_lexer": "ipython3",
   "version": "3.11.13"
  }
 },
 "nbformat": 4,
 "nbformat_minor": 5
}
