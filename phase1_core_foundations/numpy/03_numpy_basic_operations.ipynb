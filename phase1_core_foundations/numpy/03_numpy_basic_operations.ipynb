{
 "cells": [
  {
   "cell_type": "markdown",
   "id": "43ad9cb9",
   "metadata": {},
   "source": [
    "# [P1] NumPy: Basic Operations\n",
    "\n",
    "**Generated:** 2025-09-20\n",
    "\n",
    "> Tip: Run cells top → bottom. Keep notes in the 'Your notes' section.\n"
   ]
  },
  {
   "cell_type": "markdown",
   "id": "33cce204",
   "metadata": {},
   "source": [
    "## Objectives\n",
    "- Fill these in after you finish the lesson.\n",
    "- Example: understand shapes/dtypes; practice slicing; compute simple finance metrics.\n"
   ]
  },
  {
   "cell_type": "markdown",
   "id": "902b43d3",
   "metadata": {},
   "source": [
    "## Setup"
   ]
  },
  {
   "cell_type": "code",
   "execution_count": 1,
   "id": "ebace1dd",
   "metadata": {},
   "outputs": [
    {
     "data": {
      "text/plain": [
       "'2.0.1'"
      ]
     },
     "execution_count": 1,
     "metadata": {},
     "output_type": "execute_result"
    }
   ],
   "source": [
    "import numpy as np\n",
    "np.__version__"
   ]
  },
  {
   "cell_type": "markdown",
   "id": "1f96e9a4",
   "metadata": {},
   "source": [
    "## 1) Elementwise vs matrix ops\n",
    "- `+ - * /` are elementwise\n",
    "- `@` is matrix multiplication (dot product)"
   ]
  },
  {
   "cell_type": "code",
   "execution_count": 2,
   "id": "e612e9be",
   "metadata": {},
   "outputs": [
    {
     "name": "stdout",
     "output_type": "stream",
     "text": [
      "elementwise * : [0.1 0.4 0.9]\n",
      "dot product x@y : 1.4\n"
     ]
    }
   ],
   "source": [
    "x = np.array([1,2,3], dtype=float)\n",
    "y = np.array([0.1, 0.2, 0.3])\n",
    "print('elementwise * :', x*y)\n",
    "print('dot product x@y :', x @ y)  # 1*0.1 + 2*0.2 + 3*0.3"
   ]
  },
  {
   "cell_type": "markdown",
   "id": "45f3217b",
   "metadata": {},
   "source": [
    "## 2) Reductions & stats\n",
    "- `np.mean`, `np.std`, `np.sum`, `np.min/max`\n"
   ]
  },
  {
   "cell_type": "code",
   "execution_count": 4,
   "id": "d7168090",
   "metadata": {},
   "outputs": [
    {
     "name": "stdout",
     "output_type": "stream",
     "text": [
      "matrix:\n",
      " [[1 2 3]\n",
      " [4 5 6]\n",
      " [7 8 9]]\n",
      "mean: 5.0 row means: [2. 5. 8.] col means: [4. 5. 6.]\n"
     ]
    }
   ],
   "source": [
    "m = np.arange(1,10).reshape(3,3)\n",
    "print('matrix:\\n', m)\n",
    "print('mean:', m.mean(), 'row means:', m.mean(axis=1), 'col means:', m.mean(axis=0))"
   ]
  },
  {
   "cell_type": "markdown",
   "id": "52a893a3",
   "metadata": {},
   "source": [
    "## Finance example\n",
    "Compute portfolio return from weights and asset returns.\n"
   ]
  },
  {
   "cell_type": "code",
   "execution_count": 5,
   "id": "e22ee561",
   "metadata": {},
   "outputs": [
    {
     "data": {
      "text/plain": [
       "np.float64(0.008)"
      ]
     },
     "execution_count": 5,
     "metadata": {},
     "output_type": "execute_result"
    }
   ],
   "source": [
    "weights = np.array([0.6, 0.4])\n",
    "returns = np.array([0.02, -0.01])\n",
    "portfolio_ret = weights @ returns\n",
    "portfolio_ret"
   ]
  },
  {
   "cell_type": "markdown",
   "id": "371757cc",
   "metadata": {},
   "source": [
    "## Exercise\n",
    "Given daily returns for 3 assets and weights, compute daily portfolio returns for 5 days.\n"
   ]
  },
  {
   "cell_type": "code",
   "execution_count": 6,
   "id": "9f574de0",
   "metadata": {},
   "outputs": [
    {
     "data": {
      "text/plain": [
       "array([ 0.002 , -0.0005,  0.0019,  0.004 ,  0.0014])"
      ]
     },
     "execution_count": 6,
     "metadata": {},
     "output_type": "execute_result"
    }
   ],
   "source": [
    "R = np.array([[0.01, -0.02, 0.015],\n",
    "              [0.005, 0.01, -0.03],\n",
    "              [0.002, 0.003, 0.0],\n",
    "              [0.01, 0.0, -0.005],\n",
    "              [-0.002, 0.004, 0.006]])\n",
    "w = np.array([0.5, 0.3, 0.2]) \n",
    "daily_port = R @ w\n",
    "daily_port"
   ]
  },
  {
   "cell_type": "markdown",
   "id": "73ee7140",
   "metadata": {},
   "source": [
    "## Your notes"
   ]
  }
 ],
 "metadata": {
  "kernelspec": {
   "display_name": "mlops_finance",
   "language": "python",
   "name": "python3"
  },
  "language_info": {
   "codemirror_mode": {
    "name": "ipython",
    "version": 3
   },
   "file_extension": ".py",
   "mimetype": "text/x-python",
   "name": "python",
   "nbconvert_exporter": "python",
   "pygments_lexer": "ipython3",
   "version": "3.11.13"
  }
 },
 "nbformat": 4,
 "nbformat_minor": 5
}
