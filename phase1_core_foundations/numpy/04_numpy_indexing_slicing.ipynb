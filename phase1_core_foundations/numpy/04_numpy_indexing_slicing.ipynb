{
 "cells": [
  {
   "cell_type": "markdown",
   "id": "15955838",
   "metadata": {},
   "source": [
    "# [P1] NumPy: Indexing & Slicing\n",
    "\n",
    "**Generated:** 2025-09-20\n",
    "\n",
    "> Tip: Run cells top → bottom. Keep notes in the 'Your notes' section.\n"
   ]
  },
  {
   "cell_type": "markdown",
   "id": "18d720fe",
   "metadata": {},
   "source": [
    "## Objectives\n",
    "- Fill these in after you finish the lesson.\n",
    "- Example: understand shapes/dtypes; practice slicing; compute simple finance metrics.\n"
   ]
  },
  {
   "cell_type": "markdown",
   "id": "1cf794c9",
   "metadata": {},
   "source": [
    "## Setup"
   ]
  },
  {
   "cell_type": "code",
   "execution_count": 1,
   "id": "af936e39",
   "metadata": {},
   "outputs": [
    {
     "data": {
      "text/plain": [
       "'2.0.1'"
      ]
     },
     "execution_count": 1,
     "metadata": {},
     "output_type": "execute_result"
    }
   ],
   "source": [
    "import numpy as np\n",
    "np.__version__"
   ]
  },
  {
   "cell_type": "markdown",
   "id": "952e0700",
   "metadata": {},
   "source": [
    "## 1) Basics\n",
    "- Scalar index, slices, step, negative indices."
   ]
  },
  {
   "cell_type": "code",
   "execution_count": 6,
   "id": "f7eb05e7",
   "metadata": {},
   "outputs": [
    {
     "name": "stdout",
     "output_type": "stream",
     "text": [
      "[0 1 2 3 4 5 6 7 8 9]\n"
     ]
    },
    {
     "data": {
      "text/plain": [
       "(np.int64(0), array([1, 2, 3, 4]), array([7, 8, 9]))"
      ]
     },
     "execution_count": 6,
     "metadata": {},
     "output_type": "execute_result"
    }
   ],
   "source": [
    "arr = np.arange(10)\n",
    "print(arr)\n",
    "arr[0], arr[1:5], arr[-3:]"
   ]
  },
  {
   "cell_type": "markdown",
   "id": "a1bdd800",
   "metadata": {},
   "source": [
    "## 2) 2D indexing\n",
    "- Row/col selection, ranges, ellipsis\n"
   ]
  },
  {
   "cell_type": "code",
   "execution_count": 7,
   "id": "84f139bb",
   "metadata": {},
   "outputs": [
    {
     "name": "stdout",
     "output_type": "stream",
     "text": [
      "[[ 1  2  3  4]\n",
      " [ 5  6  7  8]\n",
      " [ 9 10 11 12]]\n"
     ]
    },
    {
     "data": {
      "text/plain": [
       "(array([1, 2, 3, 4]),\n",
       " array([ 2,  6, 10]),\n",
       " array([[2, 3],\n",
       "        [6, 7]]))"
      ]
     },
     "execution_count": 7,
     "metadata": {},
     "output_type": "execute_result"
    }
   ],
   "source": [
    "M = np.arange(1,13).reshape(3,4)\n",
    "print(M)\n",
    "row1 = M[0, :]\n",
    "col2 = M[:, 1]\n",
    "block = M[0:2, 1:3]\n",
    "row1, col2, block"
   ]
  },
  {
   "cell_type": "markdown",
   "id": "86470c9d",
   "metadata": {},
   "source": [
    "## 3) Boolean masks\n",
    "Filter by condition.\n"
   ]
  },
  {
   "cell_type": "code",
   "execution_count": 8,
   "id": "cd9ee3f6",
   "metadata": {},
   "outputs": [
    {
     "name": "stdout",
     "output_type": "stream",
     "text": [
      "returns: [ 0.0012573  -0.00132105  0.00640423  0.001049   -0.00535669  0.00361595\n",
      "  0.01304     0.00947081 -0.00703735 -0.01265421]\n"
     ]
    },
    {
     "data": {
      "text/plain": [
       "array([0.0012573 , 0.00640423, 0.001049  , 0.00361595, 0.01304   ,\n",
       "       0.00947081])"
      ]
     },
     "execution_count": 8,
     "metadata": {},
     "output_type": "execute_result"
    }
   ],
   "source": [
    "rng = np.random.default_rng(0)\n",
    "rets = rng.normal(0, 0.01, size=10)\n",
    "print('returns:', rets)\n",
    "positive = rets[rets > 0]\n",
    "positive"
   ]
  },
  {
   "cell_type": "markdown",
   "id": "6ddb0c6e",
   "metadata": {},
   "source": [
    "## Exercise\n",
    "From a 2D array of daily returns (days×assets), select days where asset 0 > 0 and asset 1 < 0.\n"
   ]
  },
  {
   "cell_type": "code",
   "execution_count": null,
   "id": "fbef45c5",
   "metadata": {},
   "outputs": [],
   "source": [
    "R = rng.normal(0, 0.01, size=(8,3))\n",
    "mask = (R[:,0] > 0) & (R[:,1] < 0)\n",
    "R[mask]"
   ]
  },
  {
   "cell_type": "markdown",
   "id": "77c04603",
   "metadata": {},
   "source": [
    "## Your notes"
   ]
  }
 ],
 "metadata": {
  "kernelspec": {
   "display_name": "mlops_finance",
   "language": "python",
   "name": "python3"
  },
  "language_info": {
   "codemirror_mode": {
    "name": "ipython",
    "version": 3
   },
   "file_extension": ".py",
   "mimetype": "text/x-python",
   "name": "python",
   "nbconvert_exporter": "python",
   "pygments_lexer": "ipython3",
   "version": "3.11.13"
  }
 },
 "nbformat": 4,
 "nbformat_minor": 5
}
