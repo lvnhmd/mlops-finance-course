{
 "cells": [
  {
   "cell_type": "markdown",
   "id": "b8db8149",
   "metadata": {},
   "source": [
    "# [P1] NumPy Mini‑Project: 3D Array Demo (Finance‑Style)\n",
    "\n",
    "**Generated:** 2025-09-20\n",
    "\n",
    "> Tip: Run cells top → bottom. Keep notes in the 'Your notes' section.\n"
   ]
  },
  {
   "cell_type": "markdown",
   "id": "e8984906",
   "metadata": {},
   "source": [
    "## Objectives\n",
    "- Fill these in after you finish the lesson.\n",
    "- Example: understand shapes/dtypes; practice slicing; compute simple finance metrics.\n"
   ]
  },
  {
   "cell_type": "markdown",
   "id": "4fb80031",
   "metadata": {},
   "source": [
    "## Setup"
   ]
  },
  {
   "cell_type": "code",
   "execution_count": 1,
   "id": "743c80ee",
   "metadata": {},
   "outputs": [
    {
     "data": {
      "text/plain": [
       "'2.0.1'"
      ]
     },
     "execution_count": 1,
     "metadata": {},
     "output_type": "execute_result"
    }
   ],
   "source": [
    "import numpy as np\n",
    "np.__version__"
   ]
  },
  {
   "cell_type": "markdown",
   "id": "a4eea29a",
   "metadata": {},
   "source": [
    "## 1) Create a 3D dataset\n",
    "Shape: (stocks=3, days=10, features=2) where features = [Close, Volume].\n"
   ]
  },
  {
   "cell_type": "code",
   "execution_count": null,
   "id": "5f0f5791",
   "metadata": {},
   "outputs": [],
   "source": [
    "rng = np.random.default_rng(42)\n",
    "stocks = 3; days = 10; feats = 2\n",
    "data = np.empty((stocks, days, feats), dtype=float)\n",
    "\n",
    "# Close prices (~100) random walk; Volumes around 1e6\n",
    "for s in range(stocks):\n",
    "    close = 100 + np.cumsum(rng.normal(0, 1, size=days))\n",
    "    volume = rng.normal(1_000_000, 50_000, size=days)\n",
    "    data[s,:,0] = close\n",
    "    data[s,:,1] = volume\n",
    "\n",
    "data.shape"
   ]
  },
  {
   "cell_type": "markdown",
   "id": "c338e48f",
   "metadata": {},
   "source": [
    "## 2) Indexing examples\n",
    "- All days for stock 0; last 5 days for all stocks; all volumes.\n"
   ]
  },
  {
   "cell_type": "code",
   "execution_count": null,
   "id": "f33cea78",
   "metadata": {},
   "outputs": [],
   "source": [
    "stock0_all = data[0,:,:]\n",
    "last5_all = data[:, -5:, :]\n",
    "volumes = data[:,:,1]\n",
    "stock0_all.shape, last5_all.shape, volumes.shape"
   ]
  },
  {
   "cell_type": "markdown",
   "id": "efcc54ee",
   "metadata": {},
   "source": [
    "## 3) Reshape & transpose\n",
    "Switch to (days, stocks, features) for time‑major ops.\n"
   ]
  },
  {
   "cell_type": "code",
   "execution_count": null,
   "id": "b1b059c2",
   "metadata": {},
   "outputs": [],
   "source": [
    "time_major = np.transpose(data, (1,0,2))\n",
    "time_major.shape"
   ]
  },
  {
   "cell_type": "markdown",
   "id": "89956e3d",
   "metadata": {},
   "source": [
    "## 4) Broadcasting ops\n",
    "Compute daily returns for each stock: (price_t / price_{t-1} - 1).\n"
   ]
  },
  {
   "cell_type": "code",
   "execution_count": null,
   "id": "f615254f",
   "metadata": {},
   "outputs": [],
   "source": [
    "prices = data[:,:,0]                  # (stocks, days)\n",
    "rets = prices[:,1:] / prices[:,:-1] - 1  # shape (stocks, days-1)\n",
    "rets.shape, rets[:,:3]"
   ]
  },
  {
   "cell_type": "markdown",
   "id": "dd6ec09c",
   "metadata": {},
   "source": [
    "## 5) Exercise\n",
    "Given weights (3,), compute portfolio daily returns from `rets` using `@`.\n"
   ]
  },
  {
   "cell_type": "code",
   "execution_count": null,
   "id": "02beaffc",
   "metadata": {},
   "outputs": [],
   "source": [
    "weights = np.array([0.5, 0.3, 0.2])\n",
    "portfolio_daily = weights @ rets\n",
    "portfolio_daily.shape, portfolio_daily[:5]"
   ]
  },
  {
   "cell_type": "markdown",
   "id": "9557662e",
   "metadata": {},
   "source": [
    "## Your notes"
   ]
  }
 ],
 "metadata": {
  "kernelspec": {
   "display_name": "mlops_finance",
   "language": "python",
   "name": "python3"
  },
  "language_info": {
   "codemirror_mode": {
    "name": "ipython",
    "version": 3
   },
   "file_extension": ".py",
   "mimetype": "text/x-python",
   "name": "python",
   "nbconvert_exporter": "python",
   "pygments_lexer": "ipython3",
   "version": "3.11.13"
  }
 },
 "nbformat": 4,
 "nbformat_minor": 5
}
