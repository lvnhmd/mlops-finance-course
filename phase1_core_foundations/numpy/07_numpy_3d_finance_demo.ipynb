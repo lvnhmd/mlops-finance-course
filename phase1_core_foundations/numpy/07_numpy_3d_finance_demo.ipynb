{
 "cells": [
  {
   "cell_type": "markdown",
   "id": "b8db8149",
   "metadata": {},
   "source": [
    "# [P1] NumPy Mini‑Project: 3D Array Demo (Finance‑Style)\n",
    "\n",
    "**Generated:** 2025-09-20\n",
    "\n",
    "> Tip: Run cells top → bottom. Keep notes in the 'Your notes' section.\n"
   ]
  },
  {
   "cell_type": "markdown",
   "id": "e8984906",
   "metadata": {},
   "source": [
    "## Objectives\n",
    "- Fill these in after you finish the lesson.\n",
    "- Example: understand shapes/dtypes; practice slicing; compute simple finance metrics.\n"
   ]
  },
  {
   "cell_type": "markdown",
   "id": "4fb80031",
   "metadata": {},
   "source": [
    "## Setup"
   ]
  },
  {
   "cell_type": "code",
   "execution_count": 1,
   "id": "743c80ee",
   "metadata": {},
   "outputs": [
    {
     "data": {
      "text/plain": [
       "'2.0.1'"
      ]
     },
     "execution_count": 1,
     "metadata": {},
     "output_type": "execute_result"
    }
   ],
   "source": [
    "import numpy as np\n",
    "np.__version__"
   ]
  },
  {
   "cell_type": "markdown",
   "id": "a4eea29a",
   "metadata": {},
   "source": [
    "## 1) Create a 3D dataset\n",
    "Shape: (stocks=3, days=10, features=2) where features = [Close, Volume].\n"
   ]
  },
  {
   "cell_type": "code",
   "execution_count": null,
   "id": "5f0f5791",
   "metadata": {},
   "outputs": [
    {
     "name": "stdout",
     "output_type": "stream",
     "text": [
      "[100.30471708  99.26473297 100.01518417 100.95574889  99.0047137\n",
      "  97.70253419  97.83037459  97.514132    97.49733084  96.64428692]\n",
      "[1043969.89874314 1038889.59677145 1003301.53487806 1056362.0603484\n",
      " 1023375.4671126   957035.37685584 1018437.53920412  952055.86995855\n",
      " 1043922.51506536  997503.70445069]\n",
      "[ 99.81513764  99.13420809 100.35674943 100.20221995  99.77389213\n",
      "  99.42175858  99.95406776 100.31951183 100.73224444 101.16306544]\n",
      "[1107082.38004352  979679.24918077  974387.86354642  959311.36358761\n",
      " 1030798.97112877 1056448.61463604  994302.62711726  957992.17615187\n",
      "  958775.93921544 1032529.63939124]\n",
      "[100.74325417 101.28640844 100.62089873 100.85306006 100.96974586\n",
      " 101.18843446 102.05986324 102.28345879 102.96237235 103.02995142]\n",
      "[1014455.9699345  1031564.41129193  927142.20900722  984016.43918213\n",
      "  976481.36728536  968056.10758783  986242.88743867 1074747.06556172\n",
      "  956708.44421534 1048413.91772957]\n"
     ]
    },
    {
     "data": {
      "text/plain": [
       "(3, 10, 2)"
      ]
     },
     "execution_count": 5,
     "metadata": {},
     "output_type": "execute_result"
    }
   ],
   "source": [
    "generator = np.random.default_rng(42)\n",
    "stocks = 3; days = 10; feats = 2\n",
    "data = np.empty((stocks, days, feats), dtype=float)\n",
    "\n",
    "# Close prices (~100) random walk; Volumes around 1e6\n",
    "for s in range(stocks):\n",
    "    close = 100 + np.cumsum(generator.normal(0, 1, size=days))\n",
    "    volume = generator.normal(1_000_000, 50_000, size=days)\n",
    "    data[s,:,0] = close\n",
    "    data[s,:,1] = volume\n",
    "\n",
    "data.shape"
   ]
  },
  {
   "cell_type": "markdown",
   "id": "c338e48f",
   "metadata": {},
   "source": [
    "## 2) Indexing examples\n",
    "- All days for stock 0; last 5 days for all stocks; all volumes.\n"
   ]
  },
  {
   "cell_type": "code",
   "execution_count": 6,
   "id": "f33cea78",
   "metadata": {},
   "outputs": [
    {
     "data": {
      "text/plain": [
       "((10, 2), (3, 5, 2), (3, 10))"
      ]
     },
     "execution_count": 6,
     "metadata": {},
     "output_type": "execute_result"
    }
   ],
   "source": [
    "stock0_all = data[0,:,:]\n",
    "last5_all = data[:, -5:, :]\n",
    "volumes = data[:,:,1]\n",
    "stock0_all.shape, last5_all.shape, volumes.shape"
   ]
  },
  {
   "cell_type": "markdown",
   "id": "efcc54ee",
   "metadata": {},
   "source": [
    "## 3) Reshape & transpose\n",
    "Switch to (days, stocks, features) for time‑major ops.\n"
   ]
  },
  {
   "cell_type": "code",
   "execution_count": 7,
   "id": "b1b059c2",
   "metadata": {},
   "outputs": [
    {
     "data": {
      "text/plain": [
       "(10, 3, 2)"
      ]
     },
     "execution_count": 7,
     "metadata": {},
     "output_type": "execute_result"
    }
   ],
   "source": [
    "time_major = np.transpose(data, (1,0,2))\n",
    "time_major.shape"
   ]
  },
  {
   "cell_type": "markdown",
   "id": "89956e3d",
   "metadata": {},
   "source": [
    "## 4) Broadcasting ops\n",
    "Compute daily returns for each stock: (price_t / price_{t-1} - 1).\n"
   ]
  },
  {
   "cell_type": "code",
   "execution_count": 16,
   "id": "f615254f",
   "metadata": {},
   "outputs": [
    {
     "data": {
      "text/plain": [
       "((3, 9),\n",
       " array([[-0.01036825,  0.0075601 ,  0.00940422, -0.01932565, -0.0131527 ,\n",
       "          0.00130847, -0.00323256, -0.00017229, -0.00874941],\n",
       "        [-0.00682191,  0.01233218, -0.0015398 , -0.00427463, -0.00352932,\n",
       "          0.00535405,  0.00365612,  0.00411418,  0.00427689],\n",
       "        [ 0.00539147, -0.00657057,  0.00230729,  0.00115699,  0.00216588,\n",
       "          0.00861194,  0.00219083,  0.00663757,  0.00065635]]))"
      ]
     },
     "execution_count": 16,
     "metadata": {},
     "output_type": "execute_result"
    }
   ],
   "source": [
    "prices = data[:,:,0]                  # (stocks, days)\n",
    "rets = prices[:,1:] / prices[:,:-1] - 1  # shape (stocks, days-1)\n",
    "rets.shape, rets"
   ]
  },
  {
   "cell_type": "markdown",
   "id": "dd6ec09c",
   "metadata": {},
   "source": [
    "## 5) Exercise\n",
    "Given weights (3,), compute portfolio daily returns from `rets` using `@`.\n"
   ]
  },
  {
   "cell_type": "code",
   "execution_count": 18,
   "id": "02beaffc",
   "metadata": {},
   "outputs": [
    {
     "data": {
      "text/plain": [
       "((9,),\n",
       " array([-6.15240152e-03,  6.16559023e-03,  4.70162659e-03, -1.07138162e-02,\n",
       "        -7.20196924e-03,  3.98283625e-03, -8.12787051e-05,  2.47562084e-03,\n",
       "        -2.96036674e-03]))"
      ]
     },
     "execution_count": 18,
     "metadata": {},
     "output_type": "execute_result"
    }
   ],
   "source": [
    "weights = np.array([0.5, 0.3, 0.2])\n",
    "portfolio_daily = weights @ rets\n",
    "portfolio_daily.shape, portfolio_daily[:]"
   ]
  },
  {
   "cell_type": "markdown",
   "id": "9557662e",
   "metadata": {},
   "source": [
    "## Your notes"
   ]
  }
 ],
 "metadata": {
  "kernelspec": {
   "display_name": "mlops_finance",
   "language": "python",
   "name": "python3"
  },
  "language_info": {
   "codemirror_mode": {
    "name": "ipython",
    "version": 3
   },
   "file_extension": ".py",
   "mimetype": "text/x-python",
   "name": "python",
   "nbconvert_exporter": "python",
   "pygments_lexer": "ipython3",
   "version": "3.11.13"
  }
 },
 "nbformat": 4,
 "nbformat_minor": 5
}
