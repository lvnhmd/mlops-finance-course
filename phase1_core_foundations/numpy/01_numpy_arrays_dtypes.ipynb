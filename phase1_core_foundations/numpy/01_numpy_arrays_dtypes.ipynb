{
 "cells": [
  {
   "cell_type": "markdown",
   "id": "d5096801",
   "metadata": {},
   "source": [
    "# [P1] NumPy: Arrays & Dtypes\n",
    "\n",
    "**Generated:** 2025-09-20\n",
    "\n",
    "> Tip: Run cells top → bottom. Keep notes in the 'Your notes' section.\n"
   ]
  },
  {
   "cell_type": "markdown",
   "id": "32e401b2",
   "metadata": {},
   "source": [
    "## Objectives\n",
    "- Fill these in after you finish the lesson.\n",
    "- Example: understand shapes/dtypes; practice slicing; compute simple finance metrics.\n"
   ]
  },
  {
   "cell_type": "markdown",
   "id": "4f98897f",
   "metadata": {},
   "source": [
    "## Setup"
   ]
  },
  {
   "cell_type": "code",
   "execution_count": 1,
   "id": "99942673",
   "metadata": {},
   "outputs": [
    {
     "data": {
      "text/plain": [
       "'2.0.1'"
      ]
     },
     "execution_count": 1,
     "metadata": {},
     "output_type": "execute_result"
    }
   ],
   "source": [
    "import numpy as np\n",
    "np.__version__"
   ]
  },
  {
   "cell_type": "markdown",
   "id": "2757b486",
   "metadata": {},
   "source": [
    "## 1) What is an ndarray?\n",
    "- N dimensions, homogeneous dtype.\n",
    "- Inspect: `.ndim`, `.shape`, `.dtype`, `.itemsize`.\n"
   ]
  },
  {
   "cell_type": "code",
   "execution_count": 2,
   "id": "5fe90069",
   "metadata": {},
   "outputs": [
    {
     "name": "stdout",
     "output_type": "stream",
     "text": [
      "a1 | ndim: 1 | shape: (3,) | dtype: int64 | itemsize: 8\n",
      "a2 | ndim: 2 | shape: (2, 3) | dtype: float64 | itemsize: 8\n",
      "a3 | ndim: 3 | shape: (2, 3, 4) | dtype: float64 | itemsize: 8\n"
     ]
    }
   ],
   "source": [
    "# Create simple arrays\n",
    "a1 = np.array([100, 101, 102])              # 1D\n",
    "a2 = np.array([[1., 2., 3.],[4., 5., 6.]])  # 2D\n",
    "a3 = np.zeros((2,3,4))                       # 3D\n",
    "\n",
    "for name, arr in [('a1',a1), ('a2',a2), ('a3',a3)]:\n",
    "    print(name, '| ndim:', arr.ndim, '| shape:', arr.shape, '| dtype:', arr.dtype, '| itemsize:', arr.itemsize)"
   ]
  },
  {
   "cell_type": "markdown",
   "id": "6e186778",
   "metadata": {},
   "source": [
    "## 2) Dtypes in practice\n",
    "Try float vs int; note precision and memory.\n"
   ]
  },
  {
   "cell_type": "code",
   "execution_count": 3,
   "id": "5661fff2",
   "metadata": {},
   "outputs": [
    {
     "name": "stdout",
     "output_type": "stream",
     "text": [
      "ints: [1 2 3] int32 4\n",
      "floats: [1. 2. 3.] float64 8\n"
     ]
    }
   ],
   "source": [
    "ints = np.array([1,2,3], dtype=np.int32)\n",
    "floats = np.array([1,2,3], dtype=np.float64)\n",
    "print('ints:', ints, ints.dtype, ints.itemsize)\n",
    "print('floats:', floats, floats.dtype, floats.itemsize)"
   ]
  },
  {
   "cell_type": "markdown",
   "id": "1f6b5785",
   "metadata": {},
   "source": [
    "## Exercise\n",
    "Create a 2×3 array of daily prices (ints), then convert to float and divide by 100 to get prices in £.\n"
   ]
  },
  {
   "cell_type": "code",
   "execution_count": 4,
   "id": "1c2d3fb6",
   "metadata": {},
   "outputs": [
    {
     "data": {
      "text/plain": [
       "(array([[101.25, 102.  , 100.5 ],\n",
       "        [ 99.5 , 100.25, 101.  ]]),\n",
       " dtype('float64'))"
      ]
     },
     "execution_count": 4,
     "metadata": {},
     "output_type": "execute_result"
    }
   ],
   "source": [
    "# Your work\n",
    "prices_int = np.array([[10125, 10200, 10050],[9950, 10025, 10100]], dtype=np.int32)\n",
    "prices = prices_int.astype(np.float64)/100\n",
    "prices, prices.dtype"
   ]
  },
  {
   "cell_type": "markdown",
   "id": "9485fcbf",
   "metadata": {},
   "source": [
    "## Your notes"
   ]
  }
 ],
 "metadata": {
  "kernelspec": {
   "display_name": "mlops_finance",
   "language": "python",
   "name": "python3"
  },
  "language_info": {
   "codemirror_mode": {
    "name": "ipython",
    "version": 3
   },
   "file_extension": ".py",
   "mimetype": "text/x-python",
   "name": "python",
   "nbconvert_exporter": "python",
   "pygments_lexer": "ipython3",
   "version": "3.11.13"
  }
 },
 "nbformat": 4,
 "nbformat_minor": 5
}
