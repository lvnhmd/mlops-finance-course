{
 "cells": [
  {
   "cell_type": "markdown",
   "id": "eccaf2de",
   "metadata": {},
   "source": [
    "# 📘 NumPy Homework (7 Days) — With Self‑Checks\n",
    "\n",
    "**Generated:** 2025-09-21\n",
    "\n",
    "How to use:\n",
    "- Solve each exercise in the **solution cell** provided.\n",
    "- Then run the **Self‑check** cell below it. If it runs without errors → you passed.\n",
    "- If an `AssertionError` appears, read the message and fix your work.\n",
    "\n",
    "⚠️ Please use the **exact variable names** requested, so tests can find your answers.\n"
   ]
  },
  {
   "cell_type": "markdown",
   "id": "58872a25",
   "metadata": {},
   "source": [
    "## Day 1 — Arrays & Dtypes\n",
    "\n",
    "Create a 2D NumPy array **`prices_int`** representing daily stock prices for **2 stocks over 5 days** (ints).\n",
    "\n",
    "- Convert it to floats as **`prices`** and divide by 100 to express **pounds** instead of **pennies**.\n",
    "- Print/check `.shape`, `.ndim`, `.dtype`, and `.itemsize`.\n",
    "\n",
    "**Use these variable names:** see bold names in the prompt."
   ]
  },
  {
   "cell_type": "code",
   "execution_count": 3,
   "id": "5b34df5f",
   "metadata": {},
   "outputs": [
    {
     "name": "stdout",
     "output_type": "stream",
     "text": [
      "prices: [[1.   1.01 1.02 1.03 1.04]\n",
      " [1.05 1.06 1.07 1.08 1.09]]\n",
      "| shape: (2, 5) | ndim: 2 | dtype: float64 | itemsize: 8\n"
     ]
    }
   ],
   "source": [
    "# Your solution here\n",
    "import numpy as np\n",
    "prices_int = np.array([[100, 101, 102, 103, 104],[105, 106, 107, 108, 109]]);\n",
    "prices = prices_int.astype(float)/100;\n",
    "print('prices:', prices);\n",
    "print('| shape:', prices.shape, '| ndim:' ,prices.ndim, '| dtype:' , prices.dtype, '| itemsize:', prices.itemsize);\n"
   ]
  },
  {
   "cell_type": "markdown",
   "id": "38db8fa1",
   "metadata": {},
   "source": [
    "### Self‑check (run after your solution)"
   ]
  },
  {
   "cell_type": "code",
   "execution_count": 4,
   "id": "c8b772dd",
   "metadata": {},
   "outputs": [
    {
     "name": "stdout",
     "output_type": "stream",
     "text": [
      "✅ Day 1 passed!\n"
     ]
    }
   ],
   "source": [
    "import numpy as np\n",
    "assert 'prices_int' in globals(), \"Define prices_int (2x5, integers).\"\n",
    "assert 'prices' in globals(), \"Define prices as float version of prices_int/100.\"\n",
    "assert isinstance(prices_int, np.ndarray), \"prices_int must be a NumPy array.\"\n",
    "assert prices_int.shape == (2,5), f\"prices_int.shape should be (2,5), got {prices_int.shape}\"\n",
    "assert np.issubdtype(prices_int.dtype, np.integer), \"prices_int must have integer dtype.\"\n",
    "assert isinstance(prices, np.ndarray), \"prices must be a NumPy array.\"\n",
    "assert prices.shape == (2,5), \"prices must match shape of prices_int.\"\n",
    "assert np.issubdtype(prices.dtype, np.floating), \"prices must have a float dtype.\"\n",
    "np.testing.assert_allclose(prices, prices_int.astype(float)/100.0, err_msg=\"prices must equal prices_int/100 (float).\")\n",
    "print(\"✅ Day 1 passed!\")"
   ]
  },
  {
   "cell_type": "markdown",
   "id": "44df4cec",
   "metadata": {},
   "source": [
    "## Day 2 — Array Creation & Printing\n",
    "\n",
    "Simulate **10 trading days** of daily returns for a single stock as **`returns10`**, using a normal distribution with mean = **0.1%** (0.001) and std = **1%** (0.01).\n",
    "\n",
    "- Create **`days`** with `np.arange(10)`.\n",
    "- Print the first 5 returns with 3 decimals (manually or via print options).\n",
    "\n",
    "**Use these variable names:** see bold names in the prompt."
   ]
  },
  {
   "cell_type": "code",
   "execution_count": 7,
   "id": "55ae501f",
   "metadata": {},
   "outputs": [
    {
     "name": "stdout",
     "output_type": "stream",
     "text": [
      "returns10: [ 0.00458773  0.01610677 -0.01686331  0.01786614  0.00052683 -0.00699979\n",
      " -0.00702957 -0.00982817 -0.00123645  0.00933884]\n",
      "days: [0 1 2 3 4 5 6 7 8 9]\n",
      "[ 0.005  0.016 -0.017  0.018  0.001]\n"
     ]
    }
   ],
   "source": [
    "# Your solution here\n",
    "import numpy as np\n",
    "returns10 = np.random.default_rng(21).normal(loc=0.001, scale=0.01, size=10)\n",
    "print('returns10:', returns10)\n",
    "days = np.arange(10)\n",
    "print('days:', days)\n",
    "np.set_printoptions(precision=3, suppress=True)\n",
    "print(returns10[:5])"
   ]
  },
  {
   "cell_type": "markdown",
   "id": "95121eed",
   "metadata": {},
   "source": [
    "### Self‑check (run after your solution)"
   ]
  },
  {
   "cell_type": "code",
   "execution_count": 6,
   "id": "edefda44",
   "metadata": {},
   "outputs": [
    {
     "name": "stdout",
     "output_type": "stream",
     "text": [
      "✅ Day 2 passed!\n"
     ]
    }
   ],
   "source": [
    "import numpy as np\n",
    "assert 'returns10' in globals(), \"Define returns10: array of 10 daily returns.\"\n",
    "assert 'days' in globals(), \"Define days = np.arange(10).\"\n",
    "assert isinstance(returns10, np.ndarray), \"returns10 must be a NumPy array.\"\n",
    "assert returns10.shape == (10,), \"returns10 must be length 10.\"\n",
    "assert np.isfinite(returns10).all(), \"returns10 must be finite numbers.\"\n",
    "assert isinstance(days, np.ndarray) and days.shape == (10,), \"days must be np.arange(10).\"\n",
    "print(\"✅ Day 2 passed!\")"
   ]
  },
  {
   "cell_type": "markdown",
   "id": "02b7b5e6",
   "metadata": {},
   "source": [
    "## Day 3 — Basic Operations\n",
    "\n",
    "Given portfolio **`weights = np.array([0.5, 0.3, 0.2])`**:\n",
    "- Create a 2D array **`R`** of daily returns for **3 assets across 4 days** (shape **(4,3)**).\n",
    "- Compute **`portfolio_daily` = R @ weights** (shape **(4,)**).\n",
    "\n",
    "**Use these variable names:** see bold names in the prompt."
   ]
  },
  {
   "cell_type": "code",
   "execution_count": null,
   "id": "3c6156a2",
   "metadata": {},
   "outputs": [
    {
     "name": "stdout",
     "output_type": "stream",
     "text": [
      "(4, 3)\n",
      "portfolio_daily: [0.014 0.014 0.005 0.011]\n"
     ]
    }
   ],
   "source": [
    "# Your solution here\n",
    "import numpy as np\n",
    "weights = np.array([0.5, 0.3, 0.2])\n",
    "R = np.array([[0.01, 0.02, 0.015], [0.005, 0.025, 0.02], [-0.01, 0.015, 0.03], [0.02, -0.005, 0.01]])\n",
    "print(R.shape)\n",
    "portfolio_daily = R.dot(weights)\n",
    "print('portfolio_daily:', portfolio_daily)\n"
   ]
  },
  {
   "cell_type": "markdown",
   "id": "4e61b2e0",
   "metadata": {},
   "source": [
    "### Self‑check (run after your solution)"
   ]
  },
  {
   "cell_type": "code",
   "execution_count": null,
   "id": "a9659417",
   "metadata": {},
   "outputs": [
    {
     "name": "stdout",
     "output_type": "stream",
     "text": [
      "✅ Day 3 passed!\n"
     ]
    }
   ],
   "source": [
    "import numpy as np\n",
    "assert 'weights' in globals(), \"Define weights = np.array([0.5, 0.3, 0.2]).\"\n",
    "assert np.allclose(weights, np.array([0.5,0.3,0.2])), \"weights must be [0.5, 0.3, 0.2].\"\n",
    "assert 'R' in globals(), \"Define R with shape (4,3).\"\n",
    "assert isinstance(R, np.ndarray) and R.shape == (4,3), \"R must be a (4,3) NumPy array.\"\n",
    "assert 'portfolio_daily' in globals(), \"Compute portfolio_daily = R @ weights.\"\n",
    "assert isinstance(portfolio_daily, np.ndarray) and portfolio_daily.shape == (4,), \"portfolio_daily must be length 4.\"\n",
    "print(\"✅ Day 3 passed!\")"
   ]
  },
  {
   "cell_type": "markdown",
   "id": "094a16ef",
   "metadata": {},
   "source": [
    "## Day 4 — Indexing & Slicing\n",
    "\n",
    "Create a **5×3** matrix **`R5`** of simulated daily returns.\n",
    "- Select **`asset1`**: returns of asset index 0 for all 5 days → shape (5,).\n",
    "- Select **`last2`**: last 2 days of all assets → shape (2,3).\n",
    "- Select **`asset2_gt`**: all rows where asset index 1 > 0.01 → shape (?,3).\n",
    "\n",
    "**Use these variable names:** see bold names in the prompt."
   ]
  },
  {
   "cell_type": "code",
   "execution_count": 13,
   "id": "a52575ab",
   "metadata": {},
   "outputs": [
    {
     "name": "stdout",
     "output_type": "stream",
     "text": [
      "[[ 0.35877341  1.51067731 -1.78633124]\n",
      " [ 1.          1.          1.        ]\n",
      " [ 7.5         7.5         7.5       ]\n",
      " [ 1.          2.          3.        ]\n",
      " [ 1.          2.5         4.        ]]\n",
      "(5, 3)\n",
      "asset1: [0.35877341 1.         7.5        1.         1.        ]\n",
      "last2: [[1.  2.  3. ]\n",
      " [1.  2.5 4. ]]\n",
      "asset2_gt: [[ 0.35877341  1.51067731 -1.78633124]\n",
      " [ 1.          1.          1.        ]\n",
      " [ 7.5         7.5         7.5       ]\n",
      " [ 1.          2.          3.        ]\n",
      " [ 1.          2.5         4.        ]]\n"
     ]
    }
   ],
   "source": [
    "# Your solution here\n",
    "import numpy as np\n",
    "a = np.random.default_rng(21).normal(loc=0, scale=1, size=3)\n",
    "b = np.ones(3)\n",
    "c = np.full(3, 7.5)\n",
    "d = np.arange(1, 4, 1)         # step\n",
    "e = np.linspace(1, 4, 3) \n",
    "\n",
    "R5 = np.array([a, b, c, d, e])\n",
    "\n",
    "print(R5)\n",
    "print(R5.shape)\n",
    "\n",
    "asset1 = R5[:,0]\n",
    "print('asset1:', asset1)\n",
    "last2 = R5[-2:,:]\n",
    "print('last2:', last2)\n",
    "asset2_gt = R5[R5[:,1]>0.01, :]\n",
    "print('asset2_gt:', asset2_gt)\n"
   ]
  },
  {
   "cell_type": "markdown",
   "id": "3f2bb8e1",
   "metadata": {},
   "source": [
    "### Self‑check (run after your solution)"
   ]
  },
  {
   "cell_type": "code",
   "execution_count": 14,
   "id": "3a9fd251",
   "metadata": {},
   "outputs": [
    {
     "name": "stdout",
     "output_type": "stream",
     "text": [
      "✅ Day 4 passed!\n"
     ]
    }
   ],
   "source": [
    "import numpy as np\n",
    "assert 'R5' in globals(), \"Define R5 with shape (5,3).\"\n",
    "assert isinstance(R5, np.ndarray) and R5.shape == (5,3), \"R5 must be (5,3).\"\n",
    "assert 'asset1' in globals() and isinstance(asset1, np.ndarray) and asset1.shape == (5,), \"asset1 must be R5[:,0] shape (5,).\"\n",
    "assert 'last2' in globals() and isinstance(last2, np.ndarray) and last2.shape == (2,3), \"last2 must be last 2 rows, shape (2,3).\"\n",
    "assert 'asset2_gt' in globals() and isinstance(asset2_gt, np.ndarray) and asset2_gt.shape[1] == 3, \"asset2_gt must have 3 columns.\"\n",
    "print(\"✅ Day 4 passed!\")"
   ]
  },
  {
   "cell_type": "markdown",
   "id": "4f43fefc",
   "metadata": {},
   "source": [
    "## Day 5 — Shape & Reshape\n",
    "\n",
    "Simulate **20 daily returns** as **`rets20`**.\n",
    "- Reshape to **`weeks`** with shape (4,5).\n",
    "- Compute **`weekly_mean`** (shape (4,)) = mean across axis=1.\n",
    "\n",
    "**Use these variable names:** see bold names in the prompt."
   ]
  },
  {
   "cell_type": "code",
   "execution_count": 16,
   "id": "5299c744",
   "metadata": {},
   "outputs": [
    {
     "name": "stdout",
     "output_type": "stream",
     "text": [
      "rets20: [ 0.35877341  1.51067731 -1.78633124  1.68661351 -0.04731721 -0.79997858\n",
      " -0.80295672 -1.08281652 -0.22364536  0.83388418  0.58406373  0.63828602\n",
      " -1.69480839 -1.57096212  1.55380317  0.96888537  2.183214    1.20981583\n",
      " -1.02439134  1.28527245]\n",
      "weeks:\n",
      " [[ 0.35877341  1.51067731 -1.78633124  1.68661351 -0.04731721]\n",
      " [-0.79997858 -0.80295672 -1.08281652 -0.22364536  0.83388418]\n",
      " [ 0.58406373  0.63828602 -1.69480839 -1.57096212  1.55380317]\n",
      " [ 0.96888537  2.183214    1.20981583 -1.02439134  1.28527245]]\n",
      "weekly_mean: [ 0.34448316 -0.4151026  -0.09792352  0.92455926]\n"
     ]
    }
   ],
   "source": [
    "# Your solution here\n",
    "import numpy as np\n",
    "rets20 = np.random.default_rng(21).normal(loc=0, scale=1, size=20)\n",
    "print('rets20:', rets20)\n",
    "weeks = rets20.reshape(4,5)\n",
    "print('weeks:\\n', weeks)\n",
    "weekly_mean = weeks.mean(axis=1)\n",
    "print('weekly_mean:', weekly_mean)"
   ]
  },
  {
   "cell_type": "markdown",
   "id": "55848d89",
   "metadata": {},
   "source": [
    "### Self‑check (run after your solution)"
   ]
  },
  {
   "cell_type": "code",
   "execution_count": 17,
   "id": "75916101",
   "metadata": {},
   "outputs": [
    {
     "name": "stdout",
     "output_type": "stream",
     "text": [
      "✅ Day 5 passed!\n"
     ]
    }
   ],
   "source": [
    "import numpy as np\n",
    "assert 'rets20' in globals() and isinstance(rets20, np.ndarray) and rets20.shape == (20,), \"rets20 must be length 20.\"\n",
    "assert 'weeks' in globals() and isinstance(weeks, np.ndarray) and weeks.shape == (4,5), \"weeks must be (4,5).\"\n",
    "assert 'weekly_mean' in globals() and isinstance(weekly_mean, np.ndarray) and weekly_mean.shape == (4,), \"weekly_mean must be (4,).\"\n",
    "print(\"✅ Day 5 passed!\")"
   ]
  },
  {
   "cell_type": "markdown",
   "id": "845a4489",
   "metadata": {},
   "source": [
    "## Day 6 — Broadcasting\n",
    "\n",
    "Create a (4×3) price matrix **`prices43`**.\n",
    "- Compute column means **`col_mean`** (shape (3,)).\n",
    "- Normalize as **`norm = prices43 - col_mean`** using broadcasting.\n",
    "- (Optional) Check that `norm.mean(axis=0)` is close to 0.\n",
    "\n",
    "**Use these variable names:** see bold names in the prompt."
   ]
  },
  {
   "cell_type": "code",
   "execution_count": 25,
   "id": "4afef04d",
   "metadata": {},
   "outputs": [
    {
     "name": "stdout",
     "output_type": "stream",
     "text": [
      "norm.mean(axis=0):\n",
      " [-2.77555756e-17  5.55111512e-17 -5.55111512e-17]\n",
      "True\n"
     ]
    }
   ],
   "source": [
    "# Your solution here\n",
    "import numpy as np\n",
    "prices43 = np.random.default_rng(21).normal(loc=0, scale=1, size=12).reshape(4,3)\n",
    "col_mean = prices43.mean(axis=0)\n",
    "norm = prices43 - col_mean;\n",
    "print('norm.mean(axis=0):\\n', norm.mean(axis=0))\n",
    "print(np.allclose(norm.mean(axis=0), 0))"
   ]
  },
  {
   "cell_type": "markdown",
   "id": "c702d1d1",
   "metadata": {},
   "source": [
    "### Self‑check (run after your solution)"
   ]
  },
  {
   "cell_type": "code",
   "execution_count": 26,
   "id": "ea53d768",
   "metadata": {},
   "outputs": [
    {
     "name": "stdout",
     "output_type": "stream",
     "text": [
      "✅ Day 6 passed!\n"
     ]
    }
   ],
   "source": [
    "import numpy as np\n",
    "assert 'prices43' in globals() and isinstance(prices43, np.ndarray) and prices43.shape == (4,3), \"prices43 must be (4,3).\"\n",
    "assert 'col_mean' in globals() and isinstance(col_mean, np.ndarray) and col_mean.shape == (3,), \"col_mean must be (3,).\"\n",
    "assert 'norm' in globals() and isinstance(norm, np.ndarray) and norm.shape == (4,3), \"norm must be (4,3).\"\n",
    "# Optional sanity check (tolerant)\n",
    "assert np.all(np.isfinite(norm)), \"norm must be finite.\"\n",
    "print(\"✅ Day 6 passed!\")"
   ]
  },
  {
   "cell_type": "markdown",
   "id": "57d4b873",
   "metadata": {},
   "source": [
    "## Day 7 — 3D Finance Mini‑Project\n",
    "\n",
    "Simulate a **(3×6×2)** array **`data`** = 3 stocks × 6 days × 2 features (Close, Volume).\n",
    "- Extract volumes as **`volumes`** (shape (3,6)).\n",
    "- Transpose to time‑major **`time_major`** with shape (6,3,2).\n",
    "- Compute Close‑based daily returns **`rets`** (shape (3,5)).\n",
    "\n",
    "**Use these variable names:** see bold names in the prompt."
   ]
  },
  {
   "cell_type": "code",
   "execution_count": null,
   "id": "415f469d",
   "metadata": {},
   "outputs": [],
   "source": [
    "# Your solution here\n",
    "import numpy as np\n"
   ]
  },
  {
   "cell_type": "markdown",
   "id": "704c75c0",
   "metadata": {},
   "source": [
    "### Self‑check (run after your solution)"
   ]
  },
  {
   "cell_type": "code",
   "execution_count": null,
   "id": "336b6717",
   "metadata": {},
   "outputs": [],
   "source": [
    "import numpy as np\n",
    "assert 'data' in globals() and isinstance(data, np.ndarray) and data.shape == (3,6,2), \"data must be shape (3,6,2).\"\n",
    "assert 'volumes' in globals() and isinstance(volumes, np.ndarray) and volumes.shape == (3,6), \"volumes must be (3,6).\"\n",
    "assert 'time_major' in globals() and isinstance(time_major, np.ndarray) and time_major.shape == (6,3,2), \"time_major must be (6,3,2).\"\n",
    "assert 'rets' in globals() and isinstance(rets, np.ndarray) and rets.shape == (3,5), \"rets must be (3,5).\"\n",
    "print(\"✅ Day 7 passed!\")"
   ]
  }
 ],
 "metadata": {
  "kernelspec": {
   "display_name": "mlops_finance",
   "language": "python",
   "name": "python3"
  },
  "language_info": {
   "codemirror_mode": {
    "name": "ipython",
    "version": 3
   },
   "file_extension": ".py",
   "mimetype": "text/x-python",
   "name": "python",
   "nbconvert_exporter": "python",
   "pygments_lexer": "ipython3",
   "version": "3.11.13"
  }
 },
 "nbformat": 4,
 "nbformat_minor": 5
}
