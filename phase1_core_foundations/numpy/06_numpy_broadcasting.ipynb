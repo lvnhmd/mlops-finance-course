{
 "cells": [
  {
   "cell_type": "markdown",
   "id": "1f4cabb2",
   "metadata": {},
   "source": [
    "# [P1] NumPy: Broadcasting\n",
    "\n",
    "**Generated:** 2025-09-20\n",
    "\n",
    "> Tip: Run cells top → bottom. Keep notes in the 'Your notes' section.\n"
   ]
  },
  {
   "cell_type": "markdown",
   "id": "906a5b77",
   "metadata": {},
   "source": [
    "## Objectives\n",
    "- Fill these in after you finish the lesson.\n",
    "- Example: understand shapes/dtypes; practice slicing; compute simple finance metrics.\n"
   ]
  },
  {
   "cell_type": "markdown",
   "id": "32dac2ad",
   "metadata": {},
   "source": [
    "## Setup"
   ]
  },
  {
   "cell_type": "code",
   "execution_count": 1,
   "id": "291c1507",
   "metadata": {},
   "outputs": [
    {
     "data": {
      "text/plain": [
       "'2.0.1'"
      ]
     },
     "execution_count": 1,
     "metadata": {},
     "output_type": "execute_result"
    }
   ],
   "source": [
    "import numpy as np\n",
    "np.__version__"
   ]
  },
  {
   "cell_type": "markdown",
   "id": "2c09d4c1",
   "metadata": {},
   "source": [
    "## 1) Rules\n",
    "- Align shapes from the right; length‑1 dims can expand.\n"
   ]
  },
  {
   "cell_type": "code",
   "execution_count": 2,
   "id": "75a29024",
   "metadata": {},
   "outputs": [
    {
     "data": {
      "text/plain": [
       "(array([[60. , 40.8,  0. ],\n",
       "        [58.8, 39.6,  0. ]]),\n",
       " array([100.8,  98.4]))"
      ]
     },
     "execution_count": 2,
     "metadata": {},
     "output_type": "execute_result"
    }
   ],
   "source": [
    "prices = np.array([[100., 102., 101.],\n",
    "                  [98., 99., 100.]])\n",
    "weights = np.array([0.6, 0.4, 0.0])  # broadcast across rows\n",
    "weighted = prices * weights\n",
    "weighted, weighted.sum(axis=1)"
   ]
  },
  {
   "cell_type": "markdown",
   "id": "8b8b35f9",
   "metadata": {},
   "source": [
    "## 2) Add column vector to all rows\n"
   ]
  },
  {
   "cell_type": "code",
   "execution_count": 3,
   "id": "f39117fc",
   "metadata": {},
   "outputs": [
    {
     "data": {
      "text/plain": [
       "((2, 3),\n",
       " (2, 1),\n",
       " array([[ 0.011, -0.019,  0.016],\n",
       "        [ 0.003,  0.008, -0.032]]))"
      ]
     },
     "execution_count": 3,
     "metadata": {},
     "output_type": "execute_result"
    }
   ],
   "source": [
    "R = np.array([[0.01, -0.02, 0.015],\n",
    "              [0.005, 0.01, -0.03]])\n",
    "bias = np.array([[0.001],[ -0.002]])   # shape (2,1)\n",
    "adj = R + bias\n",
    "R.shape, bias.shape, adj"
   ]
  },
  {
   "cell_type": "markdown",
   "id": "d7164037",
   "metadata": {},
   "source": [
    "## Exercise\n",
    "Normalize each column of a (days×assets) matrix by subtracting column mean and dividing by column std (z‑score) using broadcasting.\n"
   ]
  },
  {
   "cell_type": "code",
   "execution_count": 4,
   "id": "3a347bcf",
   "metadata": {},
   "outputs": [
    {
     "name": "stdout",
     "output_type": "stream",
     "text": [
      "[[ 0.18905338 -0.52274844 -0.41306354]\n",
      " [-2.44146738  1.79970738  1.14416587]\n",
      " [-0.32542284  0.77380659  0.28121067]\n",
      " [-0.55382284  0.97756745 -0.31055655]\n",
      " [-0.3288239  -0.79214676  0.45495807]\n",
      " [-0.09919805  0.54528871 -0.6071857 ]]\n"
     ]
    },
    {
     "data": {
      "text/plain": [
       "(array([ 9.25185854e-17, -1.38777878e-17, -3.70074342e-17]),\n",
       " array([1., 1., 1.]))"
      ]
     },
     "execution_count": 4,
     "metadata": {},
     "output_type": "execute_result"
    }
   ],
   "source": [
    "generator = np.random.default_rng(2)\n",
    "X = generator.normal(0,1,size=(6,3))\n",
    "print(X)\n",
    "mu = X.mean(axis=0)\n",
    "sigma = X.std(axis=0)\n",
    "Z = (X - mu) / sigma\n",
    "Z.mean(axis=0), Z.std(axis=0)"
   ]
  },
  {
   "cell_type": "markdown",
   "id": "a27032c5",
   "metadata": {},
   "source": [
    "## Your notes"
   ]
  }
 ],
 "metadata": {
  "kernelspec": {
   "display_name": "mlops_finance",
   "language": "python",
   "name": "python3"
  },
  "language_info": {
   "codemirror_mode": {
    "name": "ipython",
    "version": 3
   },
   "file_extension": ".py",
   "mimetype": "text/x-python",
   "name": "python",
   "nbconvert_exporter": "python",
   "pygments_lexer": "ipython3",
   "version": "3.11.13"
  }
 },
 "nbformat": 4,
 "nbformat_minor": 5
}
