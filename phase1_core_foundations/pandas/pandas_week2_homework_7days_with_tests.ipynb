{
 "cells": [
  {
   "cell_type": "markdown",
   "id": "801c898e",
   "metadata": {},
   "source": [
    "# 📘 Pandas Week 2 — Homework (7 Days) — With Self‑Checks\n",
    "\n",
    "**Generated:** 2025-09-21\n",
    "\n",
    "How to use:\n",
    "- Implement the solution in the cell below each exercise using the requested variable names.\n",
    "- Run the Self‑check cell to validate structure & shapes. Read any AssertionError messages to fix issues.\n"
   ]
  },
  {
   "cell_type": "markdown",
   "id": "e8a0b9c5",
   "metadata": {},
   "source": [
    "## Setup"
   ]
  },
  {
   "cell_type": "code",
   "execution_count": null,
   "id": "8aca2227",
   "metadata": {},
   "outputs": [],
   "source": [
    "import pandas as pd\n",
    "import numpy as np\n",
    "from pandas.tseries.offsets import BDay\n",
    "pd.__version__"
   ]
  },
  {
   "cell_type": "markdown",
   "id": "522a6e8e",
   "metadata": {},
   "source": [
    "## Day 1 — Joins & Merges\n",
    "\n",
    "Same spec as plain homework.\n",
    "\n",
    "**Use these variable names:** see bold names in the prompt."
   ]
  },
  {
   "cell_type": "code",
   "execution_count": null,
   "id": "6c374924",
   "metadata": {},
   "outputs": [],
   "source": [
    "# Your solution here\n"
   ]
  },
  {
   "cell_type": "markdown",
   "id": "d3c196fa",
   "metadata": {},
   "source": [
    "### Self‑check (run after your solution)"
   ]
  },
  {
   "cell_type": "code",
   "execution_count": null,
   "id": "5cba8582",
   "metadata": {},
   "outputs": [],
   "source": [
    "assert 'prices' in globals() and isinstance(prices, pd.DataFrame), \"Define prices DataFrame.\"\n",
    "assert set(['date','ticker','close']).issubset(prices.columns), \"prices must have date,ticker,close.\"\n",
    "assert 'fundamentals' in globals() and isinstance(fundamentals, pd.DataFrame), \"Define fundamentals DataFrame.\"\n",
    "assert set(['ticker','pe']).issubset(fundamentals.columns), \"fundamentals must have ticker,pe.\"\n",
    "assert 'df_inner' in globals() and isinstance(df_inner, pd.DataFrame), \"Create df_inner via inner merge.\"\n",
    "assert 'df_left' in globals() and isinstance(df_left, pd.DataFrame), \"Create df_left via left merge.\"\n",
    "assert 'df_dt' in globals() and isinstance(df_dt, pd.DataFrame), \"Create df_dt via date,ticker merge.\"\n",
    "print(\"✅ Day 1 passed!\")"
   ]
  },
  {
   "cell_type": "markdown",
   "id": "4d415bca",
   "metadata": {},
   "source": [
    "## Day 2 — Time Series Basics\n",
    "\n",
    "Same spec as plain homework.\n",
    "\n",
    "**Use these variable names:** see bold names in the prompt."
   ]
  },
  {
   "cell_type": "code",
   "execution_count": null,
   "id": "0f733710",
   "metadata": {},
   "outputs": [],
   "source": [
    "# Your solution here\n"
   ]
  },
  {
   "cell_type": "markdown",
   "id": "4bcc6716",
   "metadata": {},
   "source": [
    "### Self‑check (run after your solution)"
   ]
  },
  {
   "cell_type": "code",
   "execution_count": null,
   "id": "9610fded",
   "metadata": {},
   "outputs": [],
   "source": [
    "assert 'ts' in globals() and isinstance(ts, pd.DataFrame), \"Define ts DataFrame.\"\n",
    "assert isinstance(ts.index, pd.DatetimeIndex), \"ts must have DateTimeIndex.\"\n",
    "assert 'Close' in ts.columns, \"Include Close column.\"\n",
    "assert ts.index.is_monotonic_increasing, \"Index must be sorted.\"\n",
    "assert 'ts_slice' in globals() and isinstance(ts_slice, pd.DataFrame), \"Define ts_slice.\"\n",
    "assert 'ts_tz' in globals() and isinstance(ts_tz, pd.DataFrame), \"Define ts_tz.\"\n",
    "assert getattr(ts_tz.index, 'tz', None) is not None, \"ts_tz must be timezone-aware.\"\n",
    "print(\"✅ Day 2 passed!\")"
   ]
  },
  {
   "cell_type": "markdown",
   "id": "8b9b7e41",
   "metadata": {},
   "source": [
    "## Day 3 — Resampling & Rolling\n",
    "\n",
    "Same spec as plain homework.\n",
    "\n",
    "**Use these variable names:** see bold names in the prompt."
   ]
  },
  {
   "cell_type": "code",
   "execution_count": null,
   "id": "f0651fc2",
   "metadata": {},
   "outputs": [],
   "source": [
    "# Your solution here\n"
   ]
  },
  {
   "cell_type": "markdown",
   "id": "940a7e4b",
   "metadata": {},
   "source": [
    "### Self‑check (run after your solution)"
   ]
  },
  {
   "cell_type": "code",
   "execution_count": null,
   "id": "760e05bc",
   "metadata": {},
   "outputs": [],
   "source": [
    "assert 'ts' in globals() and isinstance(ts, pd.DataFrame), \"Define ts.\"\n",
    "assert isinstance(ts.index, pd.DatetimeIndex) and 'Close' in ts.columns, \"ts needs DateTimeIndex and Close.\"\n",
    "assert 'monthly_mean' in globals(), \"Define monthly_mean.\"\n",
    "assert 'roll5_mean' in globals() and 'roll5_std' in globals(), \"Define roll5_mean and roll5_std.\"\n",
    "assert 'roll5' in globals() and isinstance(roll5, pd.DataFrame), \"Create roll5 DataFrame.\"\n",
    "assert set(roll5.columns)=={'roll5_mean','roll5_std'}, \"roll5 must have columns roll5_mean & roll5_std.\"\n",
    "print(\"✅ Day 3 passed!\")"
   ]
  },
  {
   "cell_type": "markdown",
   "id": "5c169ec5",
   "metadata": {},
   "source": [
    "## Day 4 — MultiIndex Basics\n",
    "\n",
    "Same spec as plain homework.\n",
    "\n",
    "**Use these variable names:** see bold names in the prompt."
   ]
  },
  {
   "cell_type": "code",
   "execution_count": null,
   "id": "dd659a59",
   "metadata": {},
   "outputs": [],
   "source": [
    "# Your solution here\n"
   ]
  },
  {
   "cell_type": "markdown",
   "id": "481eab5b",
   "metadata": {},
   "source": [
    "### Self‑check (run after your solution)"
   ]
  },
  {
   "cell_type": "code",
   "execution_count": null,
   "id": "353b579a",
   "metadata": {},
   "outputs": [],
   "source": [
    "assert 'mi' in globals() and isinstance(mi, pd.DataFrame), \"Define mi.\"\n",
    "assert isinstance(mi.index, pd.MultiIndex), \"mi must have MultiIndex.\"\n",
    "assert set(['Close','Volume']).issubset(mi.columns), \"mi must have Close and Volume.\"\n",
    "assert 'mi_aapl' in globals() and isinstance(mi_aapl, pd.DataFrame), \"Define mi_aapl.\"\n",
    "assert 'mi_wide' in globals() and isinstance(mi_wide, pd.DataFrame), \"Define mi_wide (unstack).\"\n",
    "assert 'mi_back' in globals() and isinstance(mi_back, pd.DataFrame), \"Define mi_back (stack).\"\n",
    "print(\"✅ Day 4 passed!\")"
   ]
  },
  {
   "cell_type": "markdown",
   "id": "c0d98dba",
   "metadata": {},
   "source": [
    "## Day 5 — Apply & Lambda\n",
    "\n",
    "Same spec as plain homework.\n",
    "\n",
    "**Use these variable names:** see bold names in the prompt."
   ]
  },
  {
   "cell_type": "code",
   "execution_count": null,
   "id": "f94d4d10",
   "metadata": {},
   "outputs": [],
   "source": [
    "# Your solution here\n"
   ]
  },
  {
   "cell_type": "markdown",
   "id": "2a710ed5",
   "metadata": {},
   "source": [
    "### Self‑check (run after your solution)"
   ]
  },
  {
   "cell_type": "code",
   "execution_count": null,
   "id": "a48e37e1",
   "metadata": {},
   "outputs": [],
   "source": [
    "assert 'df' in globals() and isinstance(df, pd.DataFrame), \"Define df.\"\n",
    "assert 'Return_AAPL' in df.columns and 'Return_MSFT' in df.columns, \"Add return columns.\"\n",
    "assert 'row_sum' in globals() and isinstance(row_sum, pd.Series) and len(row_sum)==len(df), \"row_sum must be a Series aligned to df.\"\n",
    "print(\"✅ Day 5 passed!\")"
   ]
  },
  {
   "cell_type": "markdown",
   "id": "357b9aa2",
   "metadata": {},
   "source": [
    "## Day 6 — Pivot Tables\n",
    "\n",
    "Same spec as plain homework.\n",
    "\n",
    "**Use these variable names:** see bold names in the prompt."
   ]
  },
  {
   "cell_type": "code",
   "execution_count": null,
   "id": "02b87d60",
   "metadata": {},
   "outputs": [],
   "source": [
    "# Your solution here\n"
   ]
  },
  {
   "cell_type": "markdown",
   "id": "8382cbcb",
   "metadata": {},
   "source": [
    "### Self‑check (run after your solution)"
   ]
  },
  {
   "cell_type": "code",
   "execution_count": null,
   "id": "dcde2b44",
   "metadata": {},
   "outputs": [],
   "source": [
    "assert 'df' in globals() and isinstance(df, pd.DataFrame), \"Define df.\"\n",
    "assert set(['date','ticker','Volume','Return']).issubset(df.columns), \"df must have date,ticker,Volume,Return.\"\n",
    "assert 'month' in df.columns, \"Create month column.\"\n",
    "assert 'pv_vol' in globals() and hasattr(pv_vol, 'values'), \"Define pv_vol.\"\n",
    "assert 'pv_ret' in globals() and hasattr(pv_ret, 'values'), \"Define pv_ret.\"\n",
    "print(\"✅ Day 6 passed!\")"
   ]
  },
  {
   "cell_type": "markdown",
   "id": "a5061ecf",
   "metadata": {},
   "source": [
    "## Day 7 — Mini‑Project: AAPL/MSFT Daily Returns\n",
    "\n",
    "Same spec as plain homework.\n",
    "\n",
    "**Use these variable names:** see bold names in the prompt."
   ]
  },
  {
   "cell_type": "code",
   "execution_count": null,
   "id": "bd544b57",
   "metadata": {},
   "outputs": [],
   "source": [
    "# Your solution here\n"
   ]
  },
  {
   "cell_type": "markdown",
   "id": "e625770d",
   "metadata": {},
   "source": [
    "### Self‑check (run after your solution)"
   ]
  },
  {
   "cell_type": "code",
   "execution_count": null,
   "id": "5a381ca8",
   "metadata": {},
   "outputs": [],
   "source": [
    "assert 'df_close' in globals() and isinstance(df_close, pd.DataFrame), \"Define df_close.\"\n",
    "assert set(['AAPL','MSFT']).issubset(df_close.columns), \"df_close must have AAPL and MSFT columns.\"\n",
    "assert isinstance(df_close.index, pd.DatetimeIndex), \"df_close must use DateTimeIndex.\"\n",
    "assert 'returns' in globals() and isinstance(returns, pd.DataFrame), \"Compute returns.\"\n",
    "assert 'spread' in globals(), \"Compute spread.\"\n",
    "print(\"✅ Day 7 passed!\")"
   ]
  }
 ],
 "metadata": {},
 "nbformat": 4,
 "nbformat_minor": 5
}
