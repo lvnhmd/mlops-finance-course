{
 "cells": [
  {
   "cell_type": "markdown",
   "id": "1c4546e4",
   "metadata": {},
   "source": [
    "# [P1] Pandas: Selection & Indexing — With Self‑Checks\n",
    "\n",
    "**Generated:** 2025-09-21\n",
    "\n",
    "How to use:\n",
    "- Complete the solution cell(s) using the **exact variable names** requested.\n",
    "- Run the **Self‑check** cell. If it prints a ✅ message, you’re good.\n",
    "- If it raises an `AssertionError`, read the hint and fix your code.\n"
   ]
  },
  {
   "cell_type": "markdown",
   "id": "04118619",
   "metadata": {},
   "source": [
    "## Setup"
   ]
  },
  {
   "cell_type": "code",
   "execution_count": null,
   "id": "e50c10ef",
   "metadata": {},
   "outputs": [],
   "source": [
    "import pandas as pd\n",
    "import numpy as np\n",
    "pd.__version__"
   ]
  },
  {
   "cell_type": "markdown",
   "id": "4ed4f2c7",
   "metadata": {},
   "source": [
    "## Starter data"
   ]
  },
  {
   "cell_type": "code",
   "execution_count": null,
   "id": "00eaf03e",
   "metadata": {},
   "outputs": [],
   "source": [
    "dates = pd.date_range('2025-01-01', periods=5, freq='D')\n",
    "df = pd.DataFrame({'AAPL':[190,191,192,191,193],\n",
    "                   'MSFT':[405,404,406,408,409]}, index=dates)\n",
    "df.head()"
   ]
  },
  {
   "cell_type": "markdown",
   "id": "1f7f5b9a",
   "metadata": {},
   "source": [
    "## Exercise\n",
    "From **df**, select the last 3 rows and both columns using **`.loc`** as **`last3_loc`** and using **`.iloc`** as **`last3_iloc`**."
   ]
  },
  {
   "cell_type": "code",
   "execution_count": null,
   "id": "83262653",
   "metadata": {},
   "outputs": [],
   "source": [
    "# Your solution here\n"
   ]
  },
  {
   "cell_type": "markdown",
   "id": "d09d8114",
   "metadata": {},
   "source": [
    "### Self‑check"
   ]
  },
  {
   "cell_type": "code",
   "execution_count": null,
   "id": "b2ec3f40",
   "metadata": {},
   "outputs": [],
   "source": [
    "assert 'last3_loc' in globals() and isinstance(last3_loc, pd.DataFrame) and last3_loc.shape==(3,2), \"last3_loc must be (3,2).\"\n",
    "assert 'last3_iloc' in globals() and isinstance(last3_iloc, pd.DataFrame) and last3_iloc.shape==(3,2), \"last3_iloc must be (3,2).\"\n",
    "# They should be equal\n",
    "pd.testing.assert_frame_equal(last3_loc, last3_iloc)\n",
    "print('✅ Selection/indexing check passed!')"
   ]
  }
 ],
 "metadata": {},
 "nbformat": 4,
 "nbformat_minor": 5
}
