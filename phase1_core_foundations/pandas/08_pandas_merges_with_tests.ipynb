{
 "cells": [
  {
   "cell_type": "markdown",
   "id": "fd6cb747",
   "metadata": {},
   "source": [
    "# [P1] Pandas: Joins & Merges — With Self‑Checks\n",
    "\n",
    "**Generated:** 2025-09-21\n",
    "\n",
    "How to use:\n",
    "- Complete the solution cell(s) using the **exact variable names** requested.\n",
    "- Run the **Self‑check** cell. If it prints a ✅ message, you’re good.\n",
    "- If it raises an `AssertionError`, read the hint and fix your code.\n"
   ]
  },
  {
   "cell_type": "markdown",
   "id": "681d8809",
   "metadata": {},
   "source": [
    "## Setup"
   ]
  },
  {
   "cell_type": "code",
   "execution_count": null,
   "id": "b101088c",
   "metadata": {},
   "outputs": [],
   "source": [
    "import pandas as pd\n",
    "import numpy as np\n",
    "from datetime import datetime\n",
    "pd.__version__"
   ]
  },
  {
   "cell_type": "markdown",
   "id": "87a6bf9f",
   "metadata": {},
   "source": [
    "## Docs\n",
    "- Merging: https://pandas.pydata.org/pandas-docs/stable/user_guide/merging.html\n"
   ]
  },
  {
   "cell_type": "markdown",
   "id": "654b8f2c",
   "metadata": {},
   "source": [
    "## Exercise\n",
    "Create two DataFrames:\n",
    "- **`prices`** with columns: `['date','ticker','close']` (at least 5 rows, 2 tickers).\n",
    "- **`fundamentals`** with columns: `['ticker','pe']` (price/earnings per ticker).\n",
    "\n",
    "Tasks:\n",
    "1. Perform an **inner merge** on `['ticker']` into **`df_inner`**.\n",
    "2. Perform a **left merge** of prices with fundamentals on `['ticker']` into **`df_left`**.\n",
    "3. Merge by **both** `['date','ticker']` into **`df_dt``** (add a per-date item like `signal` in a small second table if needed).\n"
   ]
  },
  {
   "cell_type": "code",
   "execution_count": null,
   "id": "08e144d3",
   "metadata": {},
   "outputs": [],
   "source": [
    "# Your solution here\n"
   ]
  },
  {
   "cell_type": "markdown",
   "id": "9378f2a2",
   "metadata": {},
   "source": [
    "### Self‑check"
   ]
  },
  {
   "cell_type": "code",
   "execution_count": null,
   "id": "69036d78",
   "metadata": {},
   "outputs": [],
   "source": [
    "assert 'prices' in globals() and isinstance(prices, pd.DataFrame), \"Define prices DataFrame.\"\n",
    "assert set(['date','ticker','close']).issubset(prices.columns), \"prices must have date,ticker,close.\"\n",
    "assert 'fundamentals' in globals() and isinstance(fundamentals, pd.DataFrame), \"Define fundamentals DataFrame.\"\n",
    "assert set(['ticker','pe']).issubset(fundamentals.columns), \"fundamentals must have ticker,pe.\"\n",
    "assert 'df_inner' in globals() and isinstance(df_inner, pd.DataFrame), \"Create df_inner via inner merge.\"\n",
    "assert 'df_left' in globals() and isinstance(df_left, pd.DataFrame), \"Create df_left via left merge.\"\n",
    "assert 'df_dt' in globals() and isinstance(df_dt, pd.DataFrame), \"Create df_dt merge on date,ticker.\"\n",
    "print(\"✅ Joins & Merges check passed!\")"
   ]
  }
 ],
 "metadata": {},
 "nbformat": 4,
 "nbformat_minor": 5
}
