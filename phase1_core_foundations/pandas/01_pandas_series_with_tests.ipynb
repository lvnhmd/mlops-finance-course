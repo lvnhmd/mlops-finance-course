{
 "cells": [
  {
   "cell_type": "markdown",
   "id": "1182b880",
   "metadata": {},
   "source": [
    "# [P1] Pandas: Series — With Self‑Checks\n",
    "\n",
    "**Generated:** 2025-09-21\n",
    "\n",
    "How to use:\n",
    "- Complete the solution cell(s) using the **exact variable names** requested.\n",
    "- Run the **Self‑check** cell. If it prints a ✅ message, you’re good.\n",
    "- If it raises an `AssertionError`, read the hint and fix your code.\n"
   ]
  },
  {
   "cell_type": "markdown",
   "id": "ecf2afb8",
   "metadata": {},
   "source": [
    "## Setup"
   ]
  },
  {
   "cell_type": "code",
   "execution_count": null,
   "id": "bdf0a8c0",
   "metadata": {},
   "outputs": [],
   "source": [
    "import pandas as pd\n",
    "import numpy as np\n",
    "pd.__version__"
   ]
  },
  {
   "cell_type": "markdown",
   "id": "67f4a96a",
   "metadata": {},
   "source": [
    "## Exercise\n",
    "Create a Series named **`prices_s`** of 5 daily prices with a date index (strings ok).  \n",
    "Compute simple returns **`rets_s`** with `pct_change()`.\n"
   ]
  },
  {
   "cell_type": "code",
   "execution_count": null,
   "id": "3e6a3680",
   "metadata": {},
   "outputs": [],
   "source": [
    "# Your solution here\n"
   ]
  },
  {
   "cell_type": "markdown",
   "id": "81711912",
   "metadata": {},
   "source": [
    "### Self‑check"
   ]
  },
  {
   "cell_type": "code",
   "execution_count": null,
   "id": "ce20e007",
   "metadata": {},
   "outputs": [],
   "source": [
    "assert 'prices_s' in globals(), \"Define prices_s (length 5 Series).\"\n",
    "assert isinstance(prices_s, pd.Series) and len(prices_s)==5, \"prices_s must be a Series of length 5.\"\n",
    "assert prices_s.index.is_unique, \"Use a unique index (e.g., dates).\"\n",
    "assert 'rets_s' in globals(), \"Compute rets_s = prices_s.pct_change().\"\n",
    "assert isinstance(rets_s, pd.Series) and len(rets_s)==5, \"rets_s must be a Series of length 5.\"\n",
    "print('✅ Series check passed!')"
   ]
  }
 ],
 "metadata": {},
 "nbformat": 4,
 "nbformat_minor": 5
}
