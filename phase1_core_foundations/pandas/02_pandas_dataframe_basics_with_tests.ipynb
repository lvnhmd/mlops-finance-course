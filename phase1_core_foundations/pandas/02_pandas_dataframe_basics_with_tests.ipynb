{
 "cells": [
  {
   "cell_type": "markdown",
   "id": "1a56d5fd",
   "metadata": {},
   "source": [
    "# [P1] Pandas: DataFrame Basics — With Self‑Checks\n",
    "\n",
    "**Generated:** 2025-09-21\n",
    "\n",
    "How to use:\n",
    "- Complete the solution cell(s) using the **exact variable names** requested.\n",
    "- Run the **Self‑check** cell. If it prints a ✅ message, you’re good.\n",
    "- If it raises an `AssertionError`, read the hint and fix your code.\n"
   ]
  },
  {
   "cell_type": "markdown",
   "id": "4336b330",
   "metadata": {},
   "source": [
    "## Setup"
   ]
  },
  {
   "cell_type": "code",
   "execution_count": null,
   "id": "23208347",
   "metadata": {},
   "outputs": [],
   "source": [
    "import pandas as pd\n",
    "import numpy as np\n",
    "pd.__version__"
   ]
  },
  {
   "cell_type": "markdown",
   "id": "d3f80800",
   "metadata": {},
   "source": [
    "## Exercise\n",
    "Build a DataFrame **`df_prices`** with two tickers as columns over **5 rows** (days).  \n",
    "Add a column **`Return_AAPL`** using `pct_change()` on the **AAPL** column.\n"
   ]
  },
  {
   "cell_type": "code",
   "execution_count": null,
   "id": "2da24a67",
   "metadata": {},
   "outputs": [],
   "source": [
    "# Your solution here\n"
   ]
  },
  {
   "cell_type": "markdown",
   "id": "8f593de4",
   "metadata": {},
   "source": [
    "### Self‑check"
   ]
  },
  {
   "cell_type": "code",
   "execution_count": null,
   "id": "bfe16d32",
   "metadata": {},
   "outputs": [],
   "source": [
    "assert 'df_prices' in globals(), \"Define df_prices.\"\n",
    "assert isinstance(df_prices, pd.DataFrame) and df_prices.shape[0]==5, \"df_prices must have 5 rows.\"\n",
    "assert set(df_prices.columns).issuperset({'Return_AAPL'}), \"Add Return_AAPL column.\"\n",
    "assert 'AAPL' in df_prices.columns, \"Include an AAPL price column.\"\n",
    "print('✅ DataFrame basics check passed!')"
   ]
  }
 ],
 "metadata": {},
 "nbformat": 4,
 "nbformat_minor": 5
}
