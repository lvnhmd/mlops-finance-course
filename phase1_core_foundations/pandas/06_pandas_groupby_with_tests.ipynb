{
 "cells": [
  {
   "cell_type": "markdown",
   "id": "f2f4f6f0",
   "metadata": {},
   "source": [
    "# [P1] Pandas: GroupBy Basics — With Self‑Checks\n",
    "\n",
    "**Generated:** 2025-09-21\n",
    "\n",
    "How to use:\n",
    "- Complete the solution cell(s) using the **exact variable names** requested.\n",
    "- Run the **Self‑check** cell. If it prints a ✅ message, you’re good.\n",
    "- If it raises an `AssertionError`, read the hint and fix your code.\n"
   ]
  },
  {
   "cell_type": "markdown",
   "id": "9e78ca5f",
   "metadata": {},
   "source": [
    "## Setup"
   ]
  },
  {
   "cell_type": "code",
   "execution_count": null,
   "id": "78ee896a",
   "metadata": {},
   "outputs": [],
   "source": [
    "import pandas as pd\n",
    "import numpy as np\n",
    "pd.__version__"
   ]
  },
  {
   "cell_type": "markdown",
   "id": "46a4237e",
   "metadata": {},
   "source": [
    "## Starter data"
   ]
  },
  {
   "cell_type": "code",
   "execution_count": null,
   "id": "45644d3c",
   "metadata": {},
   "outputs": [],
   "source": [
    "df = pd.DataFrame({\n",
    "    'Ticker': ['AAPL','AAPL','MSFT','MSFT','GOOG','GOOG'],\n",
    "    'Return': [0.01, -0.02, 0.015, 0.005, -0.01, 0.02],\n",
    "    'Volume': [1_000_000, 1_200_000, 800_000, 900_000, 700_000, 650_000]\n",
    "})\n",
    "df"
   ]
  },
  {
   "cell_type": "markdown",
   "id": "4fd07fb3",
   "metadata": {},
   "source": [
    "## Exercise\n",
    "Group by **Ticker** and compute: mean Return, std Return, and total Volume in a single **`.agg(...)`** call. Store as **`gb`**."
   ]
  },
  {
   "cell_type": "code",
   "execution_count": null,
   "id": "d47a9867",
   "metadata": {},
   "outputs": [],
   "source": [
    "# Your solution here\n"
   ]
  },
  {
   "cell_type": "markdown",
   "id": "a5ecad13",
   "metadata": {},
   "source": [
    "### Self‑check"
   ]
  },
  {
   "cell_type": "code",
   "execution_count": null,
   "id": "7155edaa",
   "metadata": {},
   "outputs": [],
   "source": [
    "assert 'gb' in globals() and isinstance(gb, pd.DataFrame), \"Define gb.\"\n",
    "# Check required stats exist (handle possible MultiIndex columns)\n",
    "cols = [c if isinstance(c, str) else c[0] for c in gb.columns]\n",
    "assert 'Return' in cols and 'Volume' in cols, \"Columns should include Return and Volume stats.\"\n",
    "print('✅ GroupBy check passed!')"
   ]
  }
 ],
 "metadata": {},
 "nbformat": 4,
 "nbformat_minor": 5
}
