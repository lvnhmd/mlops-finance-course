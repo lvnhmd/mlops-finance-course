{
 "cells": [
  {
   "cell_type": "markdown",
   "id": "f0383568",
   "metadata": {},
   "source": [
    "# [P1] Pandas: Time Series Basics — With Self‑Checks\n",
    "\n",
    "**Generated:** 2025-09-21\n",
    "\n",
    "How to use:\n",
    "- Complete the solution cell(s) using the **exact variable names** requested.\n",
    "- Run the **Self‑check** cell. If it prints a ✅ message, you’re good.\n",
    "- If it raises an `AssertionError`, read the hint and fix your code.\n"
   ]
  },
  {
   "cell_type": "markdown",
   "id": "14021b67",
   "metadata": {},
   "source": [
    "## Setup"
   ]
  },
  {
   "cell_type": "code",
   "execution_count": null,
   "id": "16a775e3",
   "metadata": {},
   "outputs": [],
   "source": [
    "import pandas as pd\n",
    "import numpy as np\n",
    "from datetime import datetime\n",
    "pd.__version__"
   ]
  },
  {
   "cell_type": "markdown",
   "id": "5f218ab5",
   "metadata": {},
   "source": [
    "## Docs\n",
    "- Timeseries: https://pandas.pydata.org/pandas-docs/stable/user_guide/timeseries.html\n"
   ]
  },
  {
   "cell_type": "markdown",
   "id": "e663b9d1",
   "metadata": {},
   "source": [
    "## Exercise\n",
    "1. Create a DataFrame **`ts`** with a **DateTimeIndex** of 10 **business days** starting `2025-01-01`, column `Close` with synthetic prices.\n",
    "2. Ensure the index is **sorted** and has frequency set (BDay if possible).\n",
    "3. Slice rows **from** `2025-01-05` **to** `2025-01-10` (label slice) into **`ts_slice`**.\n",
    "4. Add a timezone (**Europe/London**) as **`ts_tz`** (convert or localize appropriately).\n"
   ]
  },
  {
   "cell_type": "code",
   "execution_count": null,
   "id": "3321bb21",
   "metadata": {},
   "outputs": [],
   "source": [
    "# Your solution here\n"
   ]
  },
  {
   "cell_type": "markdown",
   "id": "fa63afad",
   "metadata": {},
   "source": [
    "### Self‑check"
   ]
  },
  {
   "cell_type": "code",
   "execution_count": null,
   "id": "ef13dbf8",
   "metadata": {},
   "outputs": [],
   "source": [
    "assert 'ts' in globals() and isinstance(ts, pd.DataFrame), \"Define ts DataFrame.\"\n",
    "assert isinstance(ts.index, pd.DatetimeIndex), \"ts must have a DateTimeIndex.\"\n",
    "assert 'Close' in ts.columns, \"Include Close column.\"\n",
    "assert ts.index.is_monotonic_increasing, \"Index should be sorted.\"\n",
    "assert 'ts_slice' in globals() and isinstance(ts_slice, pd.DataFrame), \"Define ts_slice.\"\n",
    "assert isinstance(ts_slice.index, pd.DatetimeIndex), \"ts_slice must have a DateTimeIndex.\"\n",
    "assert 'ts_tz' in globals() and isinstance(ts_tz, pd.DataFrame), \"Define ts_tz.\"\n",
    "assert getattr(ts_tz.index, 'tz', None) is not None, \"ts_tz index should be timezone-aware.\"\n",
    "print(\"✅ Time Series basics check passed!\")"
   ]
  }
 ],
 "metadata": {},
 "nbformat": 4,
 "nbformat_minor": 5
}
