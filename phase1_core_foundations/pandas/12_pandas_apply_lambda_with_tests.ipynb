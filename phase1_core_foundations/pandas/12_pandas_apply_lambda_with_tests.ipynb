{
 "cells": [
  {
   "cell_type": "markdown",
   "id": "8b18ffc5",
   "metadata": {},
   "source": [
    "# [P1] Pandas: Apply & Lambda — With Self‑Checks\n",
    "\n",
    "**Generated:** 2025-09-21\n",
    "\n",
    "How to use:\n",
    "- Complete the solution cell(s) using the **exact variable names** requested.\n",
    "- Run the **Self‑check** cell. If it prints a ✅ message, you’re good.\n",
    "- If it raises an `AssertionError`, read the hint and fix your code.\n"
   ]
  },
  {
   "cell_type": "markdown",
   "id": "ca507093",
   "metadata": {},
   "source": [
    "## Setup"
   ]
  },
  {
   "cell_type": "code",
   "execution_count": null,
   "id": "1eec4ce1",
   "metadata": {},
   "outputs": [],
   "source": [
    "import pandas as pd\n",
    "import numpy as np\n",
    "from datetime import datetime\n",
    "pd.__version__"
   ]
  },
  {
   "cell_type": "markdown",
   "id": "7a1499f0",
   "metadata": {},
   "source": [
    "## Docs\n",
    "- Apply: https://pandas.pydata.org/pandas-docs/stable/reference/api/pandas.DataFrame.apply.html\n",
    "- Apply on Series: https://pandas.pydata.org/pandas-docs/stable/reference/api/pandas.Series.apply.html\n"
   ]
  },
  {
   "cell_type": "markdown",
   "id": "ad6a2aff",
   "metadata": {},
   "source": [
    "## Exercise\n",
    "Create a price table **`df`** with 2 tickers and 8 days (`Close_AAPL`, `Close_MSFT`).\n",
    "\n",
    "Tasks:\n",
    "1. Compute **`Return_AAPL`** and **`Return_MSFT`** using vectorized `pct_change()`.\n",
    "2. Create **`row_sum`** using `df.apply(lambda r: r['Close_AAPL'] + r['Close_MSFT'], axis=1)`.\n",
    "3. (Optional) Compare performance of vectorized vs `apply` for returns on a larger synthetic dataset.\n"
   ]
  },
  {
   "cell_type": "code",
   "execution_count": null,
   "id": "78b223af",
   "metadata": {},
   "outputs": [],
   "source": [
    "# Your solution here\n"
   ]
  },
  {
   "cell_type": "markdown",
   "id": "057e6398",
   "metadata": {},
   "source": [
    "### Self‑check"
   ]
  },
  {
   "cell_type": "code",
   "execution_count": null,
   "id": "a2f06c3e",
   "metadata": {},
   "outputs": [],
   "source": [
    "assert 'df' in globals() and isinstance(df, pd.DataFrame), \"Define df.\"\n",
    "assert 'Return_AAPL' in df.columns and 'Return_MSFT' in df.columns, \"Add return columns.\"\n",
    "assert 'row_sum' in globals() and isinstance(row_sum, pd.Series) and len(row_sum)==len(df), \"row_sum should be a Series aligned to df.\"\n",
    "print(\"✅ Apply & Lambda check passed!\")"
   ]
  }
 ],
 "metadata": {},
 "nbformat": 4,
 "nbformat_minor": 5
}
