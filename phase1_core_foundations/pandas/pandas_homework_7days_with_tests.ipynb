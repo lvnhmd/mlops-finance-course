{
 "cells": [
  {
   "cell_type": "markdown",
   "id": "30b9d381",
   "metadata": {},
   "source": [
    "# 📘 Pandas Homework (7 Days) — With Self‑Checks\n",
    "\n",
    "**Generated:** 2025-09-21\n",
    "\n",
    "How to use:\n",
    "- Solve each exercise in the **solution cell** provided using the requested variable names.\n",
    "- Then run the **Self‑check** cell below it. If it runs without errors → you passed.\n",
    "- If an `AssertionError` appears, read the message and fix your work.\n"
   ]
  },
  {
   "cell_type": "markdown",
   "id": "b981fcdd",
   "metadata": {},
   "source": [
    "## Setup"
   ]
  },
  {
   "cell_type": "code",
   "execution_count": null,
   "id": "64c3cea3",
   "metadata": {},
   "outputs": [],
   "source": [
    "import pandas as pd\n",
    "import numpy as np\n",
    "pd.__version__"
   ]
  },
  {
   "cell_type": "markdown",
   "id": "bfc5f7fd",
   "metadata": {},
   "source": [
    "## Day 1 — Series\n",
    "\n",
    "Create a Series named **`prices_s`** of 5 daily prices with a date index (strings ok). Compute simple returns **`rets_s`** with `pct_change()`.\n",
    "\n",
    "**Use these variable names:** see bold names in the prompt."
   ]
  },
  {
   "cell_type": "code",
   "execution_count": null,
   "id": "2bc1c760",
   "metadata": {},
   "outputs": [],
   "source": [
    "# Your solution here\n"
   ]
  },
  {
   "cell_type": "markdown",
   "id": "b759be07",
   "metadata": {},
   "source": [
    "### Self‑check (run after your solution)"
   ]
  },
  {
   "cell_type": "code",
   "execution_count": null,
   "id": "e431c176",
   "metadata": {},
   "outputs": [],
   "source": [
    "assert 'prices_s' in globals(), \"Define prices_s (length 5 Series).\"\n",
    "assert isinstance(prices_s, pd.Series) and len(prices_s)==5, \"prices_s must be a Series of length 5.\"\n",
    "assert prices_s.index.is_unique, \"Use a unique index (e.g., dates).\"\n",
    "assert 'rets_s' in globals(), \"Compute rets_s = prices_s.pct_change().\"\n",
    "assert isinstance(rets_s, pd.Series) and len(rets_s)==5, \"rets_s must be a Series of length 5.\"\n",
    "print(\"✅ Day 1 passed!\")"
   ]
  },
  {
   "cell_type": "markdown",
   "id": "73278a5f",
   "metadata": {},
   "source": [
    "## Day 2 — DataFrame Basics\n",
    "\n",
    "Build a DataFrame **`df_prices`** with two tickers as columns over **5 rows** (days). Add a column **`Return_AAPL`** using `pct_change()` on the **AAPL** column.\n",
    "\n",
    "**Use these variable names:** see bold names in the prompt."
   ]
  },
  {
   "cell_type": "code",
   "execution_count": null,
   "id": "9c1496d4",
   "metadata": {},
   "outputs": [],
   "source": [
    "# Your solution here\n"
   ]
  },
  {
   "cell_type": "markdown",
   "id": "893ed672",
   "metadata": {},
   "source": [
    "### Self‑check (run after your solution)"
   ]
  },
  {
   "cell_type": "code",
   "execution_count": null,
   "id": "9073786f",
   "metadata": {},
   "outputs": [],
   "source": [
    "assert 'df_prices' in globals(), \"Define df_prices.\"\n",
    "assert isinstance(df_prices, pd.DataFrame) and df_prices.shape[0]==5, \"df_prices must have 5 rows.\"\n",
    "assert 'AAPL' in df_prices.columns, \"Include an AAPL price column.\"\n",
    "assert 'Return_AAPL' in df_prices.columns, \"Add Return_AAPL column.\"\n",
    "print(\"✅ Day 2 passed!\")"
   ]
  },
  {
   "cell_type": "markdown",
   "id": "329d25b4",
   "metadata": {},
   "source": [
    "## Day 3 — Selection & Indexing\n",
    "\n",
    "Given a DataFrame **`df`** with a DateTimeIndex and columns `AAPL`, `MSFT` (create one if needed): select the last 3 rows and both columns using `.loc` as **`last3_loc`** and using `.iloc` as **`last3_iloc`**.\n",
    "\n",
    "**Use these variable names:** see bold names in the prompt."
   ]
  },
  {
   "cell_type": "code",
   "execution_count": null,
   "id": "4b4f6013",
   "metadata": {},
   "outputs": [],
   "source": [
    "# Your solution here\n"
   ]
  },
  {
   "cell_type": "markdown",
   "id": "30f0a4c6",
   "metadata": {},
   "source": [
    "### Self‑check (run after your solution)"
   ]
  },
  {
   "cell_type": "code",
   "execution_count": null,
   "id": "0320cdf2",
   "metadata": {},
   "outputs": [],
   "source": [
    "assert 'last3_loc' in globals() and isinstance(last3_loc, pd.DataFrame) and last3_loc.shape==(3,2), \"last3_loc must be (3,2).\"\n",
    "assert 'last3_iloc' in globals() and isinstance(last3_iloc, pd.DataFrame) and last3_iloc.shape==(3,2), \"last3_iloc must be (3,2).\"\n",
    "pd.testing.assert_frame_equal(last3_loc, last3_iloc)\n",
    "print(\"✅ Day 3 passed!\")"
   ]
  },
  {
   "cell_type": "markdown",
   "id": "11539e93",
   "metadata": {},
   "source": [
    "## Day 4 — Boolean Filtering\n",
    "\n",
    "Create a DataFrame **`df`** with columns `Close` and `Volume` (7 rows). Filter rows where **Close** is above its own **mean** *and* **Volume** is above its **median**. Store in **`filtered_df`**.\n",
    "\n",
    "**Use these variable names:** see bold names in the prompt."
   ]
  },
  {
   "cell_type": "code",
   "execution_count": null,
   "id": "7a28ae43",
   "metadata": {},
   "outputs": [],
   "source": [
    "# Your solution here\n"
   ]
  },
  {
   "cell_type": "markdown",
   "id": "dcaec827",
   "metadata": {},
   "source": [
    "### Self‑check (run after your solution)"
   ]
  },
  {
   "cell_type": "code",
   "execution_count": null,
   "id": "45e89d79",
   "metadata": {},
   "outputs": [],
   "source": [
    "assert 'filtered_df' in globals() and isinstance(filtered_df, pd.DataFrame), \"Define filtered_df.\"\n",
    "assert set(filtered_df.columns)=={'Close','Volume'}, \"Keep same columns.\"\n",
    "assert filtered_df.index.isin(df.index).all(), \"Indices must come from df.\"\n",
    "print(\"✅ Day 4 passed!\")"
   ]
  },
  {
   "cell_type": "markdown",
   "id": "8beee7c2",
   "metadata": {},
   "source": [
    "## Day 5 — Handling Missing Data\n",
    "\n",
    "Create a DataFrame **`df`** with NaNs in `Close` and `Volume` over 7 rows. Forward‑fill **Close** into **`df_ffill`**, interpolate **Volume** into **`df_interp`**, then produce **`df_clean`** where remaining NaNs are dropped.\n",
    "\n",
    "**Use these variable names:** see bold names in the prompt."
   ]
  },
  {
   "cell_type": "code",
   "execution_count": null,
   "id": "215a430f",
   "metadata": {},
   "outputs": [],
   "source": [
    "# Your solution here\n"
   ]
  },
  {
   "cell_type": "markdown",
   "id": "ec20b627",
   "metadata": {},
   "source": [
    "### Self‑check (run after your solution)"
   ]
  },
  {
   "cell_type": "code",
   "execution_count": null,
   "id": "489be5ab",
   "metadata": {},
   "outputs": [],
   "source": [
    "assert 'df_ffill' in globals() and isinstance(df_ffill, pd.DataFrame), \"Define df_ffill.\"\n",
    "assert 'df_interp' in globals() and isinstance(df_interp, pd.DataFrame), \"Define df_interp.\"\n",
    "assert 'df_clean' in globals() and isinstance(df_clean, pd.DataFrame), \"Define df_clean.\"\n",
    "assert df_ffill['Close'].isna().sum() < df['Close'].isna().sum(), \"Close forward-fill should reduce NaNs.\"\n",
    "assert df_interp['Volume'].isna().sum() < df['Volume'].isna().sum(), \"Volume interpolate should reduce NaNs.\"\n",
    "assert df_clean.isna().sum().sum() == 0, \"df_clean should have no NaNs.\"\n",
    "print(\"✅ Day 5 passed!\")"
   ]
  },
  {
   "cell_type": "markdown",
   "id": "7fc6644f",
   "metadata": {},
   "source": [
    "## Day 6 — GroupBy Basics\n",
    "\n",
    "Create a small DataFrame with columns `Ticker`, `Return`, `Volume` for at least 2 rows per ticker. Group by **Ticker** and compute: mean Return, std Return, and total Volume in a single **`.agg(...)`** call. Store as **`gb`**.\n",
    "\n",
    "**Use these variable names:** see bold names in the prompt."
   ]
  },
  {
   "cell_type": "code",
   "execution_count": null,
   "id": "3d9f8d1f",
   "metadata": {},
   "outputs": [],
   "source": [
    "# Your solution here\n"
   ]
  },
  {
   "cell_type": "markdown",
   "id": "3658596f",
   "metadata": {},
   "source": [
    "### Self‑check (run after your solution)"
   ]
  },
  {
   "cell_type": "code",
   "execution_count": null,
   "id": "2c2998cd",
   "metadata": {},
   "outputs": [],
   "source": [
    "assert 'gb' in globals() and isinstance(gb, pd.DataFrame), \"Define gb.\"\n",
    "# Check for presence of Return and Volume stats (allow MultiIndex columns)\n",
    "cols = [c if isinstance(c, str) else c[0] for c in gb.columns]\n",
    "assert 'Return' in cols and 'Volume' in cols, \"Columns should include Return and Volume stats.\"\n",
    "print(\"✅ Day 6 passed!\")"
   ]
  },
  {
   "cell_type": "markdown",
   "id": "43569327",
   "metadata": {},
   "source": [
    "## Day 7 — Mini‑Project: Stock Filtering & Cleaning\n",
    "\n",
    "Download (or simulate) 2–3 tickers for ~3 months into **`data`**. Create **`close`** and **`volume`** tables. Forward‑fill **close**, interpolate **volume**. Filter days where any volume > 5M → **`filtered`**. Compute daily returns **`returns`** with `pct_change()` and save CSVs.\n",
    "\n",
    "**Use these variable names:** see bold names in the prompt."
   ]
  },
  {
   "cell_type": "code",
   "execution_count": null,
   "id": "6499677b",
   "metadata": {},
   "outputs": [],
   "source": [
    "# Your solution here\n"
   ]
  },
  {
   "cell_type": "markdown",
   "id": "bbb9ead6",
   "metadata": {},
   "source": [
    "### Self‑check (run after your solution)"
   ]
  },
  {
   "cell_type": "code",
   "execution_count": null,
   "id": "32b0b9e9",
   "metadata": {},
   "outputs": [],
   "source": [
    "assert 'filtered' in globals(), \"Define filtered DataFrame.\"\n",
    "assert 'returns' in globals(), \"Define returns DataFrame.\"\n",
    "assert isinstance(filtered, pd.DataFrame) and isinstance(returns, pd.DataFrame), \"Both must be DataFrames.\"\n",
    "assert returns.index.isin(filtered.index).all(), \"returns index should come from filtered (after dropna).\"\n",
    "print(\"✅ Day 7 passed!\")"
   ]
  }
 ],
 "metadata": {},
 "nbformat": 4,
 "nbformat_minor": 5
}
