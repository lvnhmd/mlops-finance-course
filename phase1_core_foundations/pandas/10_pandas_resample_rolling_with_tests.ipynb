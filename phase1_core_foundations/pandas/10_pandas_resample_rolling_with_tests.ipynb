{
 "cells": [
  {
   "cell_type": "markdown",
   "id": "63538ad4",
   "metadata": {},
   "source": [
    "# [P1] Pandas: Resampling & Rolling — With Self‑Checks\n",
    "\n",
    "**Generated:** 2025-09-21\n",
    "\n",
    "How to use:\n",
    "- Complete the solution cell(s) using the **exact variable names** requested.\n",
    "- Run the **Self‑check** cell. If it prints a ✅ message, you’re good.\n",
    "- If it raises an `AssertionError`, read the hint and fix your code.\n"
   ]
  },
  {
   "cell_type": "markdown",
   "id": "15d76319",
   "metadata": {},
   "source": [
    "## Setup"
   ]
  },
  {
   "cell_type": "code",
   "execution_count": null,
   "id": "daabe7bd",
   "metadata": {},
   "outputs": [],
   "source": [
    "import pandas as pd\n",
    "import numpy as np\n",
    "from datetime import datetime\n",
    "pd.__version__"
   ]
  },
  {
   "cell_type": "markdown",
   "id": "66480b82",
   "metadata": {},
   "source": [
    "## Docs\n",
    "- Resampling: https://pandas.pydata.org/pandas-docs/stable/user_guide/user_guide.html#time-series\n",
    "- Rolling: https://pandas.pydata.org/pandas-docs/stable/reference/api/pandas.DataFrame.rolling.html\n"
   ]
  },
  {
   "cell_type": "markdown",
   "id": "dbf05d85",
   "metadata": {},
   "source": [
    "## Exercise\n",
    "Create **`ts`**: 60 business days of `Close` starting `2025-01-01`.\n",
    "\n",
    "Tasks:\n",
    "1. Compute **`monthly_mean`** = resampled monthly mean of Close (`'M'`).\n",
    "2. Compute **`roll5_mean`** and **`roll5_std`** = 5-day rolling mean and std.\n",
    "3. Drop initial NaNs from rolling into **`roll5`** (DataFrame with both columns)."
   ]
  },
  {
   "cell_type": "code",
   "execution_count": null,
   "id": "db4d56df",
   "metadata": {},
   "outputs": [],
   "source": [
    "# Your solution here\n"
   ]
  },
  {
   "cell_type": "markdown",
   "id": "62191f11",
   "metadata": {},
   "source": [
    "### Self‑check"
   ]
  },
  {
   "cell_type": "code",
   "execution_count": null,
   "id": "61d796c8",
   "metadata": {},
   "outputs": [],
   "source": [
    "assert 'ts' in globals() and isinstance(ts, pd.DataFrame), \"Define ts.\"\n",
    "assert isinstance(ts.index, pd.DatetimeIndex) and 'Close' in ts.columns, \"ts needs DateTimeIndex and Close.\"\n",
    "assert 'monthly_mean' in globals(), \"Define monthly_mean (Series or DataFrame).\"\n",
    "assert 'roll5_mean' in globals() and 'roll5_std' in globals(), \"Define roll5_mean and roll5_std.\"\n",
    "assert 'roll5' in globals() and isinstance(roll5, pd.DataFrame), \"Combine into roll5 DataFrame.\"\n",
    "assert set(roll5.columns)=={'roll5_mean','roll5_std'}, \"roll5 must have the two columns.\"\n",
    "print(\"✅ Resampling & Rolling check passed!\")"
   ]
  }
 ],
 "metadata": {},
 "nbformat": 4,
 "nbformat_minor": 5
}
