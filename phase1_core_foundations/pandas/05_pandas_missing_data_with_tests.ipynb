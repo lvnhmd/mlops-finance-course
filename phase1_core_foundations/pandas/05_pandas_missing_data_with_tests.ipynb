{
 "cells": [
  {
   "cell_type": "markdown",
   "id": "a6aebbea",
   "metadata": {},
   "source": [
    "# [P1] Pandas: Handling Missing Data — With Self‑Checks\n",
    "\n",
    "**Generated:** 2025-09-21\n",
    "\n",
    "How to use:\n",
    "- Complete the solution cell(s) using the **exact variable names** requested.\n",
    "- Run the **Self‑check** cell. If it prints a ✅ message, you’re good.\n",
    "- If it raises an `AssertionError`, read the hint and fix your code.\n"
   ]
  },
  {
   "cell_type": "markdown",
   "id": "ee2de84f",
   "metadata": {},
   "source": [
    "## Setup"
   ]
  },
  {
   "cell_type": "code",
   "execution_count": null,
   "id": "d3fcc010",
   "metadata": {},
   "outputs": [],
   "source": [
    "import pandas as pd\n",
    "import numpy as np\n",
    "pd.__version__"
   ]
  },
  {
   "cell_type": "markdown",
   "id": "597b3d7d",
   "metadata": {},
   "source": [
    "## Starter data"
   ]
  },
  {
   "cell_type": "code",
   "execution_count": null,
   "id": "df4c3ce1",
   "metadata": {},
   "outputs": [],
   "source": [
    "dates = pd.date_range('2025-01-01', periods=7, freq='D')\n",
    "df = pd.DataFrame({'Close':[100, np.nan, 101, np.nan, 102, 103, np.nan],\n",
    "                   'Volume':[1_000_000, 900_000, np.nan, 1_200_000, 1_100_000, np.nan, 950_000]}, index=dates)\n",
    "df"
   ]
  },
  {
   "cell_type": "markdown",
   "id": "6404dea4",
   "metadata": {},
   "source": [
    "## Exercise\n",
    "Forward‑fill **Close** into **`df_ffill`**, interpolate **Volume** into **`df_interp`**, then produce **`df_clean`** where remaining NaNs are dropped."
   ]
  },
  {
   "cell_type": "code",
   "execution_count": null,
   "id": "d4c9af8a",
   "metadata": {},
   "outputs": [],
   "source": [
    "# Your solution here\n"
   ]
  },
  {
   "cell_type": "markdown",
   "id": "58fc553f",
   "metadata": {},
   "source": [
    "### Self‑check"
   ]
  },
  {
   "cell_type": "code",
   "execution_count": null,
   "id": "7d70ac73",
   "metadata": {},
   "outputs": [],
   "source": [
    "assert 'df_ffill' in globals() and isinstance(df_ffill, pd.DataFrame), \"Define df_ffill.\"\n",
    "assert 'df_interp' in globals() and isinstance(df_interp, pd.DataFrame), \"Define df_interp.\"\n",
    "assert 'df_clean' in globals() and isinstance(df_clean, pd.DataFrame), \"Define df_clean.\"\n",
    "assert df_ffill['Close'].isna().sum() < df['Close'].isna().sum(), \"Close forward-fill should reduce NaNs.\"\n",
    "assert df_interp['Volume'].isna().sum() < df['Volume'].isna().sum(), \"Volume interpolate should reduce NaNs.\"\n",
    "assert df_clean.isna().sum().sum() == 0, \"df_clean should have no NaNs.\"\n",
    "print('✅ Missing data check passed!')"
   ]
  }
 ],
 "metadata": {},
 "nbformat": 4,
 "nbformat_minor": 5
}
