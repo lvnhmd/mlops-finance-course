{
 "cells": [
  {
   "cell_type": "markdown",
   "id": "1fbca573",
   "metadata": {},
   "source": [
    "# [P1] Pandas: Pivot Tables — With Self‑Checks\n",
    "\n",
    "**Generated:** 2025-09-21\n",
    "\n",
    "How to use:\n",
    "- Complete the solution cell(s) using the **exact variable names** requested.\n",
    "- Run the **Self‑check** cell. If it prints a ✅ message, you’re good.\n",
    "- If it raises an `AssertionError`, read the hint and fix your code.\n"
   ]
  },
  {
   "cell_type": "markdown",
   "id": "e34cdefd",
   "metadata": {},
   "source": [
    "## Setup"
   ]
  },
  {
   "cell_type": "code",
   "execution_count": null,
   "id": "1f7521d3",
   "metadata": {},
   "outputs": [],
   "source": [
    "import pandas as pd\n",
    "import numpy as np\n",
    "from datetime import datetime\n",
    "pd.__version__"
   ]
  },
  {
   "cell_type": "markdown",
   "id": "e3bb1804",
   "metadata": {},
   "source": [
    "## Docs\n",
    "- Pivot table: https://pandas.pydata.org/pandas-docs/stable/reference/api/pandas.pivot_table.html\n"
   ]
  },
  {
   "cell_type": "markdown",
   "id": "3f96a9df",
   "metadata": {},
   "source": [
    "## Exercise\n",
    "Create a tidy DataFrame **`df`** with columns: `date`, `ticker`, `Volume`, `Return` for 2–3 tickers over ~10 days.\n",
    "\n",
    "Tasks:\n",
    "1. Add **`month`** column from `date`.\n",
    "2. Build **`pv_vol`** = pivot table of **mean Volume** by `month` × `ticker`.\n",
    "3. Build **`pv_ret`** = pivot table of **mean Return** by `month` × `ticker`.\n"
   ]
  },
  {
   "cell_type": "code",
   "execution_count": null,
   "id": "a5070e63",
   "metadata": {},
   "outputs": [],
   "source": [
    "# Your solution here\n"
   ]
  },
  {
   "cell_type": "markdown",
   "id": "35d296d6",
   "metadata": {},
   "source": [
    "### Self‑check"
   ]
  },
  {
   "cell_type": "code",
   "execution_count": null,
   "id": "7f28ff76",
   "metadata": {},
   "outputs": [],
   "source": [
    "assert 'df' in globals() and isinstance(df, pd.DataFrame), \"Define df.\"\n",
    "assert set(['date','ticker','Volume','Return']).issubset(df.columns), \"df must have date,ticker,Volume,Return.\"\n",
    "assert 'month' in df.columns, \"Create month column.\"\n",
    "assert 'pv_vol' in globals() and hasattr(pv_vol, 'values'), \"Define pv_vol pivot.\"\n",
    "assert 'pv_ret' in globals() and hasattr(pv_ret, 'values'), \"Define pv_ret pivot.\"\n",
    "print(\"✅ Pivot tables check passed!\")"
   ]
  }
 ],
 "metadata": {},
 "nbformat": 4,
 "nbformat_minor": 5
}
