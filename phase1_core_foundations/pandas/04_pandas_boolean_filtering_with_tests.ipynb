{
 "cells": [
  {
   "cell_type": "markdown",
   "id": "38c8eaea",
   "metadata": {},
   "source": [
    "# [P1] Pandas: Boolean Filtering — With Self‑Checks\n",
    "\n",
    "**Generated:** 2025-09-21\n",
    "\n",
    "How to use:\n",
    "- Complete the solution cell(s) using the **exact variable names** requested.\n",
    "- Run the **Self‑check** cell. If it prints a ✅ message, you’re good.\n",
    "- If it raises an `AssertionError`, read the hint and fix your code.\n"
   ]
  },
  {
   "cell_type": "markdown",
   "id": "92b0644c",
   "metadata": {},
   "source": [
    "## Setup"
   ]
  },
  {
   "cell_type": "code",
   "execution_count": null,
   "id": "5ca8a923",
   "metadata": {},
   "outputs": [],
   "source": [
    "import pandas as pd\n",
    "import numpy as np\n",
    "pd.__version__"
   ]
  },
  {
   "cell_type": "markdown",
   "id": "aa6ba0d6",
   "metadata": {},
   "source": [
    "## Starter data"
   ]
  },
  {
   "cell_type": "code",
   "execution_count": null,
   "id": "f88a03e2",
   "metadata": {},
   "outputs": [],
   "source": [
    "np.random.seed(0)\n",
    "dates = pd.date_range('2025-01-01', periods=7, freq='D')\n",
    "df = pd.DataFrame({'Close': np.random.normal(100, 2, size=7),\n",
    "                   'Volume': np.random.randint(500_000, 2_000_000, size=7)}, index=dates)\n",
    "df.head()"
   ]
  },
  {
   "cell_type": "markdown",
   "id": "8cdf9d42",
   "metadata": {},
   "source": [
    "## Exercise\n",
    "Filter rows where **Close** is above its own **mean** *and* **Volume** is above its **median**. Store in **`filtered_df`**."
   ]
  },
  {
   "cell_type": "code",
   "execution_count": null,
   "id": "46cf28cf",
   "metadata": {},
   "outputs": [],
   "source": [
    "# Your solution here\n"
   ]
  },
  {
   "cell_type": "markdown",
   "id": "9458a8d4",
   "metadata": {},
   "source": [
    "### Self‑check"
   ]
  },
  {
   "cell_type": "code",
   "execution_count": null,
   "id": "92b0b7cd",
   "metadata": {},
   "outputs": [],
   "source": [
    "assert 'filtered_df' in globals() and isinstance(filtered_df, pd.DataFrame), \"Define filtered_df.\"\n",
    "# sanity: filtered rows must be subset of df\n",
    "assert set(filtered_df.columns)==set(df.columns), \"Keep same columns.\"\n",
    "assert filtered_df.index.isin(df.index).all(), \"Indices must come from df.\"\n",
    "print('✅ Boolean filtering check passed!')"
   ]
  }
 ],
 "metadata": {},
 "nbformat": 4,
 "nbformat_minor": 5
}
