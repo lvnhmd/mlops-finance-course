{
 "cells": [
  {
   "cell_type": "markdown",
   "id": "dc835d3f",
   "metadata": {},
   "source": [
    "# [P1] Pandas: MultiIndex Basics — With Self‑Checks\n",
    "\n",
    "**Generated:** 2025-09-21\n",
    "\n",
    "How to use:\n",
    "- Complete the solution cell(s) using the **exact variable names** requested.\n",
    "- Run the **Self‑check** cell. If it prints a ✅ message, you’re good.\n",
    "- If it raises an `AssertionError`, read the hint and fix your code.\n"
   ]
  },
  {
   "cell_type": "markdown",
   "id": "135a1bde",
   "metadata": {},
   "source": [
    "## Setup"
   ]
  },
  {
   "cell_type": "code",
   "execution_count": null,
   "id": "0a12ac06",
   "metadata": {},
   "outputs": [],
   "source": [
    "import pandas as pd\n",
    "import numpy as np\n",
    "from datetime import datetime\n",
    "pd.__version__"
   ]
  },
  {
   "cell_type": "markdown",
   "id": "24c6b15f",
   "metadata": {},
   "source": [
    "## Docs\n",
    "- MultiIndex: https://pandas.pydata.org/pandas-docs/stable/user_guide/advanced.html\n"
   ]
  },
  {
   "cell_type": "markdown",
   "id": "688cb157",
   "metadata": {},
   "source": [
    "## Exercise\n",
    "1. Create a MultiIndex DataFrame **`mi`** with levels: `ticker ∈ {AAPL, MSFT}`, `date ∈ 2025‑01‑01..2025‑01‑05` (5 days). Columns: `Close`, `Volume`.\n",
    "2. Select the **cross-section** for `ticker='AAPL'` into **`mi_aapl`**.\n",
    "3. Unstack by `ticker` to wide format into **`mi_wide`**, then restack back into **`mi_back`**.\n"
   ]
  },
  {
   "cell_type": "code",
   "execution_count": null,
   "id": "e3084612",
   "metadata": {},
   "outputs": [],
   "source": [
    "# Your solution here\n"
   ]
  },
  {
   "cell_type": "markdown",
   "id": "7208220d",
   "metadata": {},
   "source": [
    "### Self‑check"
   ]
  },
  {
   "cell_type": "code",
   "execution_count": null,
   "id": "c327e5d0",
   "metadata": {},
   "outputs": [],
   "source": [
    "assert 'mi' in globals() and isinstance(mi, pd.DataFrame), \"Define mi.\"\n",
    "assert isinstance(mi.index, pd.MultiIndex), \"mi must have MultiIndex.\"\n",
    "assert set(['Close','Volume']).issubset(mi.columns), \"mi must have Close and Volume.\"\n",
    "assert 'mi_aapl' in globals() and isinstance(mi_aapl, pd.DataFrame), \"Define mi_aapl.\"\n",
    "assert 'mi_wide' in globals() and isinstance(mi_wide, pd.DataFrame), \"Define mi_wide (after unstack).\"\n",
    "assert 'mi_back' in globals() and isinstance(mi_back, pd.DataFrame), \"Define mi_back (after stack).\"\n",
    "print(\"✅ MultiIndex basics check passed!\")"
   ]
  }
 ],
 "metadata": {},
 "nbformat": 4,
 "nbformat_minor": 5
}
