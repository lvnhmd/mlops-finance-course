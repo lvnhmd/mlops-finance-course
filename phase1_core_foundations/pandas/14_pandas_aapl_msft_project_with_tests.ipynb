{
 "cells": [
  {
   "cell_type": "markdown",
   "id": "1a7f2f62",
   "metadata": {},
   "source": [
    "# [P1] Mini‑Project: AAPL/MSFT Daily Returns — With Self‑Checks\n",
    "\n",
    "**Generated:** 2025-09-21\n",
    "\n",
    "How to use:\n",
    "- Complete the solution cell(s) using the **exact variable names** requested.\n",
    "- Run the **Self‑check** cell. If it prints a ✅ message, you’re good.\n",
    "- If it raises an `AssertionError`, read the hint and fix your code.\n"
   ]
  },
  {
   "cell_type": "markdown",
   "id": "87115fa3",
   "metadata": {},
   "source": [
    "## Setup"
   ]
  },
  {
   "cell_type": "code",
   "execution_count": null,
   "id": "7fca9c46",
   "metadata": {},
   "outputs": [],
   "source": [
    "import pandas as pd\n",
    "import numpy as np\n",
    "from datetime import datetime\n",
    "pd.__version__"
   ]
  },
  {
   "cell_type": "markdown",
   "id": "afcbd684",
   "metadata": {},
   "source": [
    "## Instructions\n",
    "Goal: Create aligned AAPL & MSFT daily returns.\n",
    "\n",
    "Steps (prefer yfinance if available; otherwise simulate):\n",
    "1. Get price data into **`df_close`** with DateTimeIndex and columns `AAPL`, `MSFT`.\n",
    "2. Compute **`returns`** = `df_close.pct_change().dropna()`.\n",
    "3. Add **`spread`** = `returns['AAPL'] - returns['MSFT']`.\n",
    "4. Save CSVs: `close.csv`, `returns.csv`.\n"
   ]
  },
  {
   "cell_type": "code",
   "execution_count": null,
   "id": "85852b00",
   "metadata": {},
   "outputs": [],
   "source": [
    "# Your solution here\n",
    "# If yfinance is unavailable, simulate:\n",
    "# dates = pd.bdate_range('2025-01-01', periods=60)\n",
    "# rng = np.random.default_rng(0)\n",
    "# aapl = 100*np.cumprod(1+rng.normal(0.001, 0.02, size=len(dates)))\n",
    "# msft = 200*np.cumprod(1+rng.normal(0.001, 0.02, size=len(dates)))\n",
    "# df_close = pd.DataFrame({'AAPL': aapl, 'MSFT': msft}, index=dates)\n"
   ]
  },
  {
   "cell_type": "markdown",
   "id": "5ecbd734",
   "metadata": {},
   "source": [
    "### Self‑check"
   ]
  },
  {
   "cell_type": "code",
   "execution_count": null,
   "id": "ce14a554",
   "metadata": {},
   "outputs": [],
   "source": [
    "assert 'df_close' in globals() and isinstance(df_close, pd.DataFrame), \"Define df_close.\"\n",
    "assert set(['AAPL','MSFT']).issubset(df_close.columns), \"df_close must have AAPL and MSFT columns.\"\n",
    "assert isinstance(df_close.index, pd.DatetimeIndex), \"df_close must use DateTimeIndex.\"\n",
    "assert 'returns' in globals() and isinstance(returns, pd.DataFrame), \"Compute returns DataFrame.\"\n",
    "assert 'spread' in globals(), \"Compute spread Series from returns.\"\n",
    "print(\"✅ AAPL/MSFT project check passed!\")"
   ]
  }
 ],
 "metadata": {},
 "nbformat": 4,
 "nbformat_minor": 5
}
