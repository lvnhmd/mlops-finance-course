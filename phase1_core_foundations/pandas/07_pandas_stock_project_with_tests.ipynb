{
 "cells": [
  {
   "cell_type": "markdown",
   "id": "ab1894e0",
   "metadata": {},
   "source": [
    "# [P1] Mini‑Project: Stock Filtering & Cleaning — With Self‑Checks\n",
    "\n",
    "**Generated:** 2025-09-21\n",
    "\n",
    "How to use:\n",
    "- Complete the solution cell(s) using the **exact variable names** requested.\n",
    "- Run the **Self‑check** cell. If it prints a ✅ message, you’re good.\n",
    "- If it raises an `AssertionError`, read the hint and fix your code.\n"
   ]
  },
  {
   "cell_type": "markdown",
   "id": "74f003e7",
   "metadata": {},
   "source": [
    "## Setup"
   ]
  },
  {
   "cell_type": "code",
   "execution_count": null,
   "id": "b44698bf",
   "metadata": {},
   "outputs": [],
   "source": [
    "import pandas as pd\n",
    "import numpy as np\n",
    "pd.__version__"
   ]
  },
  {
   "cell_type": "markdown",
   "id": "19be6a02",
   "metadata": {},
   "source": [
    "## Instructions\n",
    "- Download 2–3 tickers (e.g., AAPL, MSFT, GOOG) for ~3 months into **`data`**.\n",
    "- Create **`close`** and **`volume`** tables from `data`.\n",
    "- Forward-fill **close**, interpolate **volume**.\n",
    "- Filter days where any volume > 5M → **`filtered`**.\n",
    "- Compute daily returns **`returns`** (pct_change)."
   ]
  },
  {
   "cell_type": "code",
   "execution_count": null,
   "id": "67d3fc52",
   "metadata": {},
   "outputs": [],
   "source": [
    "# Your solution here\n",
    "# If yfinance is unavailable, create synthetic DataFrames with same shapes/columns."
   ]
  },
  {
   "cell_type": "markdown",
   "id": "cb8c3111",
   "metadata": {},
   "source": [
    "### Self‑check"
   ]
  },
  {
   "cell_type": "code",
   "execution_count": null,
   "id": "bf100522",
   "metadata": {},
   "outputs": [],
   "source": [
    "assert 'filtered' in globals(), \"Define filtered DataFrame.\"\n",
    "assert 'returns' in globals(), \"Define returns DataFrame.\"\n",
    "assert isinstance(filtered, pd.DataFrame) and isinstance(returns, pd.DataFrame), \"Both must be DataFrames.\"\n",
    "assert returns.index.isin(filtered.index).all(), \"returns index should come from filtered (after dropna).\"\n",
    "print('✅ Project structure check passed!')"
   ]
  }
 ],
 "metadata": {},
 "nbformat": 4,
 "nbformat_minor": 5
}
