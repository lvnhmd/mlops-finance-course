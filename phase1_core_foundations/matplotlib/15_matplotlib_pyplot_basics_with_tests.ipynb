{
 "cells": [
  {
   "cell_type": "markdown",
   "id": "201d8236",
   "metadata": {},
   "source": [
    "# [P1] Matplotlib: Pyplot Basics — With Self‑Checks\n",
    "\n",
    "**Generated:** 2025-09-21\n",
    "\n",
    "How to use:\n",
    "- Complete the solution cell(s).\n",
    "- Run the **Self‑check** cell. If it prints a ✅ message, you’re good.\n",
    "- If it raises an `AssertionError`, read the hint and fix your code.\n",
    "\n",
    "Docs:\n",
    "- Pyplot tutorial: https://matplotlib.org/stable/tutorials/introductory/pyplot.html\n",
    "- API: https://matplotlib.org/stable/api/index.html\n"
   ]
  },
  {
   "cell_type": "markdown",
   "id": "b63e1bbc",
   "metadata": {},
   "source": [
    "## Setup"
   ]
  },
  {
   "cell_type": "code",
   "execution_count": null,
   "id": "11280578",
   "metadata": {},
   "outputs": [],
   "source": [
    "import numpy as np\n",
    "import pandas as pd\n",
    "import matplotlib.pyplot as plt\n",
    "plt.__version__"
   ]
  },
  {
   "cell_type": "markdown",
   "id": "50910997",
   "metadata": {},
   "source": [
    "## Exercise\n",
    "Create a basic line plot **`fig1, ax1`** of 30 points:\n",
    "- x = 0..29, y = cumulative sum of random normal values (seed=0).\n",
    "- Add title `'Random Walk'` and x/y labels `'Day'`, `'Value'`."
   ]
  },
  {
   "cell_type": "code",
   "execution_count": null,
   "id": "ec541087",
   "metadata": {},
   "outputs": [],
   "source": [
    "# Your solution here\n"
   ]
  },
  {
   "cell_type": "markdown",
   "id": "de0f8d54",
   "metadata": {},
   "source": [
    "### Self‑check"
   ]
  },
  {
   "cell_type": "code",
   "execution_count": null,
   "id": "db63dcbd",
   "metadata": {},
   "outputs": [],
   "source": [
    "rng = np.random.default_rng(0)\n",
    "assert 'fig1' in globals() and 'ax1' in globals(), \"Create fig1, ax1 via plt.subplots().\"\n",
    "# Best-effort checks\n",
    "assert hasattr(ax1, 'get_title') and ax1.get_title() != '', \"Set a title.\"\n",
    "assert ax1.get_xlabel() != '' and ax1.get_ylabel() != '', \"Set x/y labels.\"\n",
    "print('✅ Pyplot basics check passed!')"
   ]
  }
 ],
 "metadata": {},
 "nbformat": 4,
 "nbformat_minor": 5
}
