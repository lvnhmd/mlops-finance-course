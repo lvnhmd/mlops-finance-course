{
 "cells": [
  {
   "cell_type": "markdown",
   "id": "a24cdd4b",
   "metadata": {},
   "source": [
    "# 🎨 Matplotlib — Homework (7 Days) — With Self‑Checks\n",
    "\n",
    "**Generated:** 2025-09-21\n",
    "\n",
    "How to use:\n",
    "- Implement the solution using the requested variable names.\n",
    "- Run the Self‑check cell under each exercise. If it prints a ✅ message, you’re good.\n",
    "- If an `AssertionError` appears, read it and fix your code.\n"
   ]
  },
  {
   "cell_type": "markdown",
   "id": "3588eb19",
   "metadata": {},
   "source": [
    "## Setup"
   ]
  },
  {
   "cell_type": "code",
   "execution_count": null,
   "id": "ff10c570",
   "metadata": {},
   "outputs": [],
   "source": [
    "import numpy as np\n",
    "import pandas as pd\n",
    "import matplotlib.pyplot as plt\n",
    "plt.__version__"
   ]
  },
  {
   "cell_type": "markdown",
   "id": "cd73dee3",
   "metadata": {},
   "source": [
    "## Day 1 — Pyplot Basics\n",
    "\n",
    "Same spec as plain homework.\n",
    "\n",
    "**Use these variable names:** see bold names in the prompt."
   ]
  },
  {
   "cell_type": "code",
   "execution_count": null,
   "id": "4c4f91b8",
   "metadata": {},
   "outputs": [],
   "source": [
    "# Your solution here\n",
    "import numpy as np\n",
    "import pandas as pd\n",
    "import matplotlib.pyplot as plt\n"
   ]
  },
  {
   "cell_type": "markdown",
   "id": "25f7f1d6",
   "metadata": {},
   "source": [
    "### Self‑check (run after your solution)"
   ]
  },
  {
   "cell_type": "code",
   "execution_count": null,
   "id": "f38bede2",
   "metadata": {},
   "outputs": [],
   "source": [
    "assert 'fig1' in globals() and 'ax1' in globals(), \"Create fig1, ax1 via plt.subplots().\"\n",
    "assert ax1.get_title() == 'Random Walk', \"Set title 'Random Walk'.\"\n",
    "assert ax1.get_xlabel() == 'Day' and ax1.get_ylabel() == 'Value', \"Set axis labels.\"\n",
    "print(\"✅ Day 1 passed!\")"
   ]
  },
  {
   "cell_type": "markdown",
   "id": "8b47c9ca",
   "metadata": {},
   "source": [
    "## Day 2 — Multiple Plots\n",
    "\n",
    "Same spec as plain homework.\n",
    "\n",
    "**Use these variable names:** see bold names in the prompt."
   ]
  },
  {
   "cell_type": "code",
   "execution_count": null,
   "id": "32e0e43a",
   "metadata": {},
   "outputs": [],
   "source": [
    "# Your solution here\n",
    "import numpy as np\n",
    "import pandas as pd\n",
    "import matplotlib.pyplot as plt\n"
   ]
  },
  {
   "cell_type": "markdown",
   "id": "76379069",
   "metadata": {},
   "source": [
    "### Self‑check (run after your solution)"
   ]
  },
  {
   "cell_type": "code",
   "execution_count": null,
   "id": "70406eaf",
   "metadata": {},
   "outputs": [],
   "source": [
    "assert 'fig2' in globals() and 'ax2' in globals(), \"Define fig2, ax2.\"\n",
    "legend = ax2.get_legend()\n",
    "assert legend is not None, \"Add a legend with labels 'sin' and 'cos'.\"\n",
    "print(\"✅ Day 2 passed!\")"
   ]
  },
  {
   "cell_type": "markdown",
   "id": "8e7d198d",
   "metadata": {},
   "source": [
    "## Day 3 — Styles & Colors\n",
    "\n",
    "Same spec as plain homework.\n",
    "\n",
    "**Use these variable names:** see bold names in the prompt."
   ]
  },
  {
   "cell_type": "code",
   "execution_count": null,
   "id": "396b33a9",
   "metadata": {},
   "outputs": [],
   "source": [
    "# Your solution here\n",
    "import numpy as np\n",
    "import pandas as pd\n",
    "import matplotlib.pyplot as plt\n"
   ]
  },
  {
   "cell_type": "markdown",
   "id": "8bda323c",
   "metadata": {},
   "source": [
    "### Self‑check (run after your solution)"
   ]
  },
  {
   "cell_type": "code",
   "execution_count": null,
   "id": "57b964b0",
   "metadata": {},
   "outputs": [],
   "source": [
    "assert 'fig3' in globals() and 'ax3' in globals(), \"Define fig3, ax3.\"\n",
    "assert ax3.get_legend() is not None, \"Add a legend.\"\n",
    "print(\"✅ Day 3 passed!\")"
   ]
  },
  {
   "cell_type": "markdown",
   "id": "84e8d236",
   "metadata": {},
   "source": [
    "## Day 4 — Legends & Labels\n",
    "\n",
    "Same spec as plain homework.\n",
    "\n",
    "**Use these variable names:** see bold names in the prompt."
   ]
  },
  {
   "cell_type": "code",
   "execution_count": null,
   "id": "3eca82ff",
   "metadata": {},
   "outputs": [],
   "source": [
    "# Your solution here\n",
    "import numpy as np\n",
    "import pandas as pd\n",
    "import matplotlib.pyplot as plt\n"
   ]
  },
  {
   "cell_type": "markdown",
   "id": "254b9ac0",
   "metadata": {},
   "source": [
    "### Self‑check (run after your solution)"
   ]
  },
  {
   "cell_type": "code",
   "execution_count": null,
   "id": "06900c83",
   "metadata": {},
   "outputs": [],
   "source": [
    "assert 'fig4' in globals() and 'ax4' in globals(), \"Define fig4, ax4.\"\n",
    "assert ax4.get_title() == 'Daily Close', \"Set title 'Daily Close'.\"\n",
    "assert ax4.get_xlabel() == 'Date' and ax4.get_ylabel() == 'Price (£)', \"Axis labels must match.\"\n",
    "assert ax4.get_legend() is not None, \"Add legend (e.g., label='AAPL').\"\n",
    "print(\"✅ Day 4 passed!\")"
   ]
  },
  {
   "cell_type": "markdown",
   "id": "46601174",
   "metadata": {},
   "source": [
    "## Day 5 — Subplots\n",
    "\n",
    "Same spec as plain homework.\n",
    "\n",
    "**Use these variable names:** see bold names in the prompt."
   ]
  },
  {
   "cell_type": "code",
   "execution_count": null,
   "id": "2184429f",
   "metadata": {},
   "outputs": [],
   "source": [
    "# Your solution here\n",
    "import numpy as np\n",
    "import pandas as pd\n",
    "import matplotlib.pyplot as plt\n"
   ]
  },
  {
   "cell_type": "markdown",
   "id": "d577b5c4",
   "metadata": {},
   "source": [
    "### Self‑check (run after your solution)"
   ]
  },
  {
   "cell_type": "code",
   "execution_count": null,
   "id": "e33c0239",
   "metadata": {},
   "outputs": [],
   "source": [
    "import numpy as _np\n",
    "assert 'fig5' in globals() and 'axes5' in globals(), \"Define fig5, axes5 via plt.subplots(2,2).\"\n",
    "assert _np.array(axes5).shape == (2,2), \"axes5 must be a 2x2 array of Axes.\"\n",
    "print(\"✅ Day 5 passed!\")"
   ]
  },
  {
   "cell_type": "markdown",
   "id": "2beb6e5c",
   "metadata": {},
   "source": [
    "## Day 6 — Saving Figures\n",
    "\n",
    "Same spec as plain homework.\n",
    "\n",
    "**Use these variable names:** see bold names in the prompt."
   ]
  },
  {
   "cell_type": "code",
   "execution_count": null,
   "id": "7e7fd4c3",
   "metadata": {},
   "outputs": [],
   "source": [
    "# Your solution here\n",
    "import numpy as np\n",
    "import pandas as pd\n",
    "import matplotlib.pyplot as plt\n"
   ]
  },
  {
   "cell_type": "markdown",
   "id": "0ccd70aa",
   "metadata": {},
   "source": [
    "### Self‑check (run after your solution)"
   ]
  },
  {
   "cell_type": "code",
   "execution_count": null,
   "id": "bceb4543",
   "metadata": {},
   "outputs": [],
   "source": [
    "import os\n",
    "assert 'fig6' in globals() and 'ax6' in globals(), \"Define fig6, ax6.\"\n",
    "assert os.path.exists('figure_example.png'), \"Save the figure as 'figure_example.png'.\"\n",
    "print(\"✅ Day 6 passed!\")"
   ]
  },
  {
   "cell_type": "markdown",
   "id": "9485b26c",
   "metadata": {},
   "source": [
    "## Day 7 — Mini‑Project: AAPL Close Plot\n",
    "\n",
    "Same spec as plain homework.\n",
    "\n",
    "**Use these variable names:** see bold names in the prompt."
   ]
  },
  {
   "cell_type": "code",
   "execution_count": null,
   "id": "c2d4ed21",
   "metadata": {},
   "outputs": [],
   "source": [
    "# Your solution here\n",
    "import numpy as np\n",
    "import pandas as pd\n",
    "import matplotlib.pyplot as plt\n"
   ]
  },
  {
   "cell_type": "markdown",
   "id": "da5625da",
   "metadata": {},
   "source": [
    "### Self‑check (run after your solution)"
   ]
  },
  {
   "cell_type": "code",
   "execution_count": null,
   "id": "c4efd9f7",
   "metadata": {},
   "outputs": [],
   "source": [
    "import os\n",
    "assert 'df' in globals(), \"Create df with Close, Return, MA10.\"\n",
    "assert set(['Close','Return','MA10']).issubset(df.columns), \"df must have Close, Return, MA10.\"\n",
    "assert 'fig7' in globals() and 'ax7' in globals(), \"Define fig7, ax7.\"\n",
    "assert os.path.exists('aapl_close_ma10.png'), \"Save 'aapl_close_ma10.png'.\"\n",
    "print(\"✅ Day 7 passed!\")"
   ]
  }
 ],
 "metadata": {},
 "nbformat": 4,
 "nbformat_minor": 5
}
