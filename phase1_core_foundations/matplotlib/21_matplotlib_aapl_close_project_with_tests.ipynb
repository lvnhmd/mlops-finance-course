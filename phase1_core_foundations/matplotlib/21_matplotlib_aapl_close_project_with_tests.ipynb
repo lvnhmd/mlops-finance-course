{
 "cells": [
  {
   "cell_type": "markdown",
   "id": "4d475274",
   "metadata": {},
   "source": [
    "# [P1] Mini‑Project: AAPL Close Plot — With Self‑Checks\n",
    "\n",
    "**Generated:** 2025-09-21\n",
    "\n",
    "How to use:\n",
    "- Complete the solution cell(s).\n",
    "- Run the **Self‑check** cell. If it prints a ✅ message, you’re good.\n",
    "- If it raises an `AssertionError`, read the hint and fix your code.\n",
    "\n",
    "Docs:\n",
    "- Pyplot tutorial: https://matplotlib.org/stable/tutorials/introductory/pyplot.html\n",
    "- API: https://matplotlib.org/stable/api/index.html\n"
   ]
  },
  {
   "cell_type": "markdown",
   "id": "ca4ef397",
   "metadata": {},
   "source": [
    "## Setup"
   ]
  },
  {
   "cell_type": "code",
   "execution_count": null,
   "id": "c28ac5fc",
   "metadata": {},
   "outputs": [],
   "source": [
    "import numpy as np\n",
    "import pandas as pd\n",
    "import matplotlib.pyplot as plt\n",
    "plt.__version__"
   ]
  },
  {
   "cell_type": "markdown",
   "id": "aae55ed0",
   "metadata": {},
   "source": [
    "## Instructions\n",
    "- Create a DateTimeIndex of ~60 business days and a synthetic AAPL **`close`** price series.\n",
    "- Build a DataFrame **`df`** with `Close`, `Return` (`pct_change()`), and a 10‑day moving average `MA10`.\n",
    "- Plot **Close** and **MA10** on the same Axes (**`fig7, ax7`**), add legend, labels, and title `'AAPL Close & MA10'`.\n",
    "- Save to `'aapl_close_ma10.png'`.\n"
   ]
  },
  {
   "cell_type": "code",
   "execution_count": null,
   "id": "7b381ec6",
   "metadata": {},
   "outputs": [],
   "source": [
    "# Your solution here\n"
   ]
  },
  {
   "cell_type": "markdown",
   "id": "a935b87d",
   "metadata": {},
   "source": [
    "### Self‑check"
   ]
  },
  {
   "cell_type": "code",
   "execution_count": null,
   "id": "2fa6cad5",
   "metadata": {},
   "outputs": [],
   "source": [
    "import os\n",
    "assert 'df' in globals(), \"Create df with Close, Return, MA10.\"\n",
    "assert set(['Close','Return','MA10']).issubset(df.columns), \"df must have Close, Return, MA10.\"\n",
    "assert 'fig7' in globals() and 'ax7' in globals(), \"Define fig7, ax7.\"\n",
    "assert os.path.exists('aapl_close_ma10.png'), \"Save the project figure as 'aapl_close_ma10.png'.\"\n",
    "print('✅ Mini‑project check passed!')"
   ]
  }
 ],
 "metadata": {},
 "nbformat": 4,
 "nbformat_minor": 5
}
