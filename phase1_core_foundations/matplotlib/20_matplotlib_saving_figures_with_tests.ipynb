{
 "cells": [
  {
   "cell_type": "markdown",
   "id": "7c9bd83e",
   "metadata": {},
   "source": [
    "# [P1] Matplotlib: Saving Figures — With Self‑Checks\n",
    "\n",
    "**Generated:** 2025-09-21\n",
    "\n",
    "How to use:\n",
    "- Complete the solution cell(s).\n",
    "- Run the **Self‑check** cell. If it prints a ✅ message, you’re good.\n",
    "- If it raises an `AssertionError`, read the hint and fix your code.\n",
    "\n",
    "Docs:\n",
    "- Pyplot tutorial: https://matplotlib.org/stable/tutorials/introductory/pyplot.html\n",
    "- API: https://matplotlib.org/stable/api/index.html\n"
   ]
  },
  {
   "cell_type": "markdown",
   "id": "1f509ce5",
   "metadata": {},
   "source": [
    "## Setup"
   ]
  },
  {
   "cell_type": "code",
   "execution_count": null,
   "id": "cd278262",
   "metadata": {},
   "outputs": [],
   "source": [
    "import numpy as np\n",
    "import pandas as pd\n",
    "import matplotlib.pyplot as plt\n",
    "plt.__version__"
   ]
  },
  {
   "cell_type": "markdown",
   "id": "55d83ffa",
   "metadata": {},
   "source": [
    "## Exercise\n",
    "Create **`fig6, ax6`** with any simple line plot and **save it** as `'figure_example.png'` at **300 dpi** using `fig.savefig(...)`.\n",
    "Then display it inline using `plt.imshow(plt.imread('figure_example.png'))` (optional)."
   ]
  },
  {
   "cell_type": "code",
   "execution_count": null,
   "id": "5fb285ba",
   "metadata": {},
   "outputs": [],
   "source": [
    "# Your solution here\n"
   ]
  },
  {
   "cell_type": "markdown",
   "id": "eca4a8b2",
   "metadata": {},
   "source": [
    "### Self‑check"
   ]
  },
  {
   "cell_type": "code",
   "execution_count": null,
   "id": "f7d2059f",
   "metadata": {},
   "outputs": [],
   "source": [
    "import os\n",
    "assert 'fig6' in globals() and 'ax6' in globals(), \"Define fig6, ax6.\"\n",
    "assert os.path.exists('figure_example.png'), \"Save the figure as 'figure_example.png'.\"\n",
    "print('✅ Saving figures check passed!')"
   ]
  }
 ],
 "metadata": {},
 "nbformat": 4,
 "nbformat_minor": 5
}
