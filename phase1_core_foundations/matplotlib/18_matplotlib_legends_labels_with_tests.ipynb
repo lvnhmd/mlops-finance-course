{
 "cells": [
  {
   "cell_type": "markdown",
   "id": "26a068ea",
   "metadata": {},
   "source": [
    "# [P1] Matplotlib: Legends & Labels — With Self‑Checks\n",
    "\n",
    "**Generated:** 2025-09-21\n",
    "\n",
    "How to use:\n",
    "- Complete the solution cell(s).\n",
    "- Run the **Self‑check** cell. If it prints a ✅ message, you’re good.\n",
    "- If it raises an `AssertionError`, read the hint and fix your code.\n",
    "\n",
    "Docs:\n",
    "- Pyplot tutorial: https://matplotlib.org/stable/tutorials/introductory/pyplot.html\n",
    "- API: https://matplotlib.org/stable/api/index.html\n"
   ]
  },
  {
   "cell_type": "markdown",
   "id": "29781159",
   "metadata": {},
   "source": [
    "## Setup"
   ]
  },
  {
   "cell_type": "code",
   "execution_count": null,
   "id": "3b195bd1",
   "metadata": {},
   "outputs": [],
   "source": [
    "import numpy as np\n",
    "import pandas as pd\n",
    "import matplotlib.pyplot as plt\n",
    "plt.__version__"
   ]
  },
  {
   "cell_type": "markdown",
   "id": "52259f36",
   "metadata": {},
   "source": [
    "## Exercise\n",
    "Create **`fig4, ax4`** with a line plot and:\n",
    "- Title `'Daily Close'`\n",
    "- X‑label `'Date'`, Y‑label `'Price (£)'`\n",
    "- A legend entry `'AAPL'`\n",
    "Tip: Construct a small Series of 10 dates (business days) and simple prices."
   ]
  },
  {
   "cell_type": "code",
   "execution_count": null,
   "id": "019a2c44",
   "metadata": {},
   "outputs": [],
   "source": [
    "# Your solution here\n"
   ]
  },
  {
   "cell_type": "markdown",
   "id": "2ecb84bd",
   "metadata": {},
   "source": [
    "### Self‑check"
   ]
  },
  {
   "cell_type": "code",
   "execution_count": null,
   "id": "5811ef13",
   "metadata": {},
   "outputs": [],
   "source": [
    "assert 'fig4' in globals() and 'ax4' in globals(), \"Define fig4, ax4.\"\n",
    "assert ax4.get_title()=='Daily Close', \"Set title 'Daily Close'.\"\n",
    "assert ax4.get_xlabel()=='Date' and ax4.get_ylabel()=='Price (£)', \"Set correct axis labels.\"\n",
    "assert ax4.get_legend() is not None, \"Add a legend.\"\n",
    "print('✅ Legends & labels check passed!')"
   ]
  }
 ],
 "metadata": {},
 "nbformat": 4,
 "nbformat_minor": 5
}
