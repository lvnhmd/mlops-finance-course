{
 "cells": [
  {
   "cell_type": "markdown",
   "id": "2b983e33",
   "metadata": {},
   "source": [
    "# [P1] Matplotlib: Subplots — With Self‑Checks\n",
    "\n",
    "**Generated:** 2025-09-21\n",
    "\n",
    "How to use:\n",
    "- Complete the solution cell(s).\n",
    "- Run the **Self‑check** cell. If it prints a ✅ message, you’re good.\n",
    "- If it raises an `AssertionError`, read the hint and fix your code.\n",
    "\n",
    "Docs:\n",
    "- Pyplot tutorial: https://matplotlib.org/stable/tutorials/introductory/pyplot.html\n",
    "- API: https://matplotlib.org/stable/api/index.html\n"
   ]
  },
  {
   "cell_type": "markdown",
   "id": "ed6817b8",
   "metadata": {},
   "source": [
    "## Setup"
   ]
  },
  {
   "cell_type": "code",
   "execution_count": null,
   "id": "341ea265",
   "metadata": {},
   "outputs": [],
   "source": [
    "import numpy as np\n",
    "import pandas as pd\n",
    "import matplotlib.pyplot as plt\n",
    "plt.__version__"
   ]
  },
  {
   "cell_type": "markdown",
   "id": "7be8f0ca",
   "metadata": {},
   "source": [
    "## Exercise\n",
    "Create a **2×2 subplot grid** (**`fig5, axes5`**) showing:\n",
    "- Top‑left: sin\n",
    "- Top‑right: cos\n",
    "- Bottom‑left: tanh\n",
    "- Bottom‑right: exp(-x/10)\n",
    "Use x = 0..99 and set a suptitle `'Function Gallery'`."
   ]
  },
  {
   "cell_type": "code",
   "execution_count": null,
   "id": "d209956e",
   "metadata": {},
   "outputs": [],
   "source": [
    "# Your solution here\n"
   ]
  },
  {
   "cell_type": "markdown",
   "id": "852c16d2",
   "metadata": {},
   "source": [
    "### Self‑check"
   ]
  },
  {
   "cell_type": "code",
   "execution_count": null,
   "id": "53ba77e6",
   "metadata": {},
   "outputs": [],
   "source": [
    "assert 'fig5' in globals() and 'axes5' in globals(), \"Define fig5, axes5 via plt.subplots(2,2).\"\n",
    "import numpy as _np\n",
    "assert _np.array(axes5).shape==(2,2), \"axes5 should be a 2x2 array of Axes.\"\n",
    "assert hasattr(fig5, 'suptitle'), \"Set a suptitle.\"\n",
    "print('✅ Subplots check passed!')"
   ]
  }
 ],
 "metadata": {},
 "nbformat": 4,
 "nbformat_minor": 5
}
