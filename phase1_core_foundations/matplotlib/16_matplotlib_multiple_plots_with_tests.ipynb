{
 "cells": [
  {
   "cell_type": "markdown",
   "id": "c1a0f874",
   "metadata": {},
   "source": [
    "# [P1] Matplotlib: Multiple Plots — With Self‑Checks\n",
    "\n",
    "**Generated:** 2025-09-21\n",
    "\n",
    "How to use:\n",
    "- Complete the solution cell(s).\n",
    "- Run the **Self‑check** cell. If it prints a ✅ message, you’re good.\n",
    "- If it raises an `AssertionError`, read the hint and fix your code.\n",
    "\n",
    "Docs:\n",
    "- Pyplot tutorial: https://matplotlib.org/stable/tutorials/introductory/pyplot.html\n",
    "- API: https://matplotlib.org/stable/api/index.html\n"
   ]
  },
  {
   "cell_type": "markdown",
   "id": "cd770b1a",
   "metadata": {},
   "source": [
    "## Setup"
   ]
  },
  {
   "cell_type": "code",
   "execution_count": null,
   "id": "a27f45fe",
   "metadata": {},
   "outputs": [],
   "source": [
    "import numpy as np\n",
    "import pandas as pd\n",
    "import matplotlib.pyplot as plt\n",
    "plt.__version__"
   ]
  },
  {
   "cell_type": "markdown",
   "id": "046976b3",
   "metadata": {},
   "source": [
    "## Exercise\n",
    "Create **two line plots on the same Axes** (not subplots):\n",
    "- x = 0..49\n",
    "- y1 = sin(x/5), y2 = cos(x/5)\n",
    "- Store as **`fig2, ax2`** and add a legend with labels `'sin'`, `'cos'`."
   ]
  },
  {
   "cell_type": "code",
   "execution_count": null,
   "id": "2fd60e94",
   "metadata": {},
   "outputs": [],
   "source": [
    "# Your solution here\n"
   ]
  },
  {
   "cell_type": "markdown",
   "id": "1baf9ea4",
   "metadata": {},
   "source": [
    "### Self‑check"
   ]
  },
  {
   "cell_type": "code",
   "execution_count": null,
   "id": "e0dd40d8",
   "metadata": {},
   "outputs": [],
   "source": [
    "assert 'fig2' in globals() and 'ax2' in globals(), \"Define fig2, ax2.\"\n",
    "# Legend check (there should be at least 1 legend)\n",
    "legend = ax2.get_legend()\n",
    "assert legend is not None, \"Add a legend with labels.\"\n",
    "print('✅ Multiple plots check passed!')"
   ]
  }
 ],
 "metadata": {},
 "nbformat": 4,
 "nbformat_minor": 5
}
