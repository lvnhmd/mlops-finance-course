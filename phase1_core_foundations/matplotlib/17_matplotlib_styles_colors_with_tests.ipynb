{
 "cells": [
  {
   "cell_type": "markdown",
   "id": "d0302dbb",
   "metadata": {},
   "source": [
    "# [P1] Matplotlib: Styles & Colors — With Self‑Checks\n",
    "\n",
    "**Generated:** 2025-09-21\n",
    "\n",
    "How to use:\n",
    "- Complete the solution cell(s).\n",
    "- Run the **Self‑check** cell. If it prints a ✅ message, you’re good.\n",
    "- If it raises an `AssertionError`, read the hint and fix your code.\n",
    "\n",
    "Docs:\n",
    "- Pyplot tutorial: https://matplotlib.org/stable/tutorials/introductory/pyplot.html\n",
    "- API: https://matplotlib.org/stable/api/index.html\n"
   ]
  },
  {
   "cell_type": "markdown",
   "id": "2f726e0f",
   "metadata": {},
   "source": [
    "## Setup"
   ]
  },
  {
   "cell_type": "code",
   "execution_count": null,
   "id": "f0171702",
   "metadata": {},
   "outputs": [],
   "source": [
    "import numpy as np\n",
    "import pandas as pd\n",
    "import matplotlib.pyplot as plt\n",
    "plt.__version__"
   ]
  },
  {
   "cell_type": "markdown",
   "id": "8f3f23c4",
   "metadata": {},
   "source": [
    "## Exercise\n",
    "Create **`fig3, ax3`** and plot three series on the same Axes:\n",
    "- y1 = linear 0..9, y2 = quadratic, y3 = sqrt\n",
    "- Use **different linestyles or markers** (no need to hardcode colors).\n",
    "- Add a legend and grid."
   ]
  },
  {
   "cell_type": "code",
   "execution_count": null,
   "id": "86700eec",
   "metadata": {},
   "outputs": [],
   "source": [
    "# Your solution here\n"
   ]
  },
  {
   "cell_type": "markdown",
   "id": "c220e1e2",
   "metadata": {},
   "source": [
    "### Self‑check"
   ]
  },
  {
   "cell_type": "code",
   "execution_count": null,
   "id": "65abaf87",
   "metadata": {},
   "outputs": [],
   "source": [
    "assert 'fig3' in globals() and 'ax3' in globals(), \"Define fig3, ax3.\"\n",
    "assert ax3.get_legend() is not None, \"Add a legend.\"\n",
    "# Grid is not directly testable, but we can accept as-is\n",
    "print('✅ Styles & colors check passed!')"
   ]
  }
 ],
 "metadata": {},
 "nbformat": 4,
 "nbformat_minor": 5
}
